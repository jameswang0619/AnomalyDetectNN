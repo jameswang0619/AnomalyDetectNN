{
 "cells": [
  {
   "cell_type": "code",
   "execution_count": 1,
   "metadata": {
    "id": "a6jgbBelHF9P",
    "colab_type": "code",
    "colab": {
     "autoexec": {
      "startup": false,
      "wait_interval": 0.0
     },
     "base_uri": "https://localhost:8080/",
     "height": 34.0
    },
    "outputId": "b3cdfb97-507b-4e91-99cf-0e36f5f41966",
    "executionInfo": {
     "status": "ok",
     "timestamp": 1.533661013459E12,
     "user_tz": 240.0,
     "elapsed": 7636.0,
     "user": {
      "displayName": "Po-Jen Wang",
      "photoUrl": "https://lh3.googleusercontent.com/a/default-user=s128",
      "userId": "115800544068920469721"
     }
    }
   },
   "outputs": [
    {
     "name": "stderr",
     "output_type": "stream",
     "text": [
      "Using TensorFlow backend.\n"
     ]
    }
   ],
   "source": [
    "from __future__ import print_function\n",
    "from __future__ import division\n",
    "import keras\n",
    "import os\n",
    "import time\n",
    "from keras.models import Sequential, Model\n",
    "from keras import layers\n",
    "from keras import backend as K\n",
    "from keras import optimizers\n",
    "from keras.layers import Activation, Dense, Merge\n",
    "from keras.constraints import Constraint"
   ]
  },
  {
   "cell_type": "code",
   "execution_count": 0,
   "metadata": {
    "id": "6nfKYRUXfyPJ",
    "colab_type": "code",
    "colab": {
     "autoexec": {
      "startup": false,
      "wait_interval": 0.0
     }
    }
   },
   "outputs": [],
   "source": [
    "from math import *\n",
    "import numpy as np\n",
    "%matplotlib inline\n",
    "#matplotlib.use('TkAgg')\n",
    "import matplotlib.pyplot as plt\n",
    "from mpl_toolkits.mplot3d import Axes3D\n",
    "import scipy.integrate as integrate\n",
    "import scipy.stats as st\n",
    "from keras.constraints import max_norm\n",
    "#from pylab import *\n"
   ]
  },
  {
   "cell_type": "code",
   "execution_count": 3,
   "metadata": {
    "id": "_r-ig6o5dQ8u",
    "colab_type": "code",
    "colab": {
     "autoexec": {
      "startup": false,
      "wait_interval": 0.0
     },
     "base_uri": "https://localhost:8080/",
     "height": 35.0
    },
    "outputId": "1c45e8b3-df79-44af-b8e4-b28fb7121452",
    "executionInfo": {
     "status": "ok",
     "timestamp": 1.533391949288E12,
     "user_tz": 240.0,
     "elapsed": 389.0,
     "user": {
      "displayName": "Po-Jen Wang",
      "photoUrl": "https://lh3.googleusercontent.com/a/default-user=s128",
      "userId": "115800544068920469721"
     }
    }
   },
   "outputs": [
    {
     "name": "stdout",
     "output_type": "stream",
     "text": [
      "2.1.6\n"
     ]
    }
   ],
   "source": [
    "print(keras.__version__)"
   ]
  },
  {
   "cell_type": "code",
   "execution_count": 4,
   "metadata": {
    "id": "sLl1WSzodqoO",
    "colab_type": "code",
    "colab": {
     "autoexec": {
      "startup": false,
      "wait_interval": 0.0
     },
     "base_uri": "https://localhost:8080/",
     "height": 35.0
    },
    "outputId": "0250125e-9afb-42d0-8f72-f0ec557a61f4",
    "executionInfo": {
     "status": "ok",
     "timestamp": 1.533391952714E12,
     "user_tz": 240.0,
     "elapsed": 1402.0,
     "user": {
      "displayName": "Po-Jen Wang",
      "photoUrl": "https://lh3.googleusercontent.com/a/default-user=s128",
      "userId": "115800544068920469721"
     }
    }
   },
   "outputs": [
    {
     "name": "stdout",
     "output_type": "stream",
     "text": [
      "Python 3.6.3\r\n"
     ]
    }
   ],
   "source": [
    "!python -V"
   ]
  },
  {
   "cell_type": "code",
   "execution_count": 3,
   "metadata": {
    "id": "qv7uNana8OsR",
    "colab_type": "code",
    "colab": {
     "autoexec": {
      "startup": false,
      "wait_interval": 0.0
     },
     "base_uri": "https://localhost:8080/",
     "height": 34.0
    },
    "outputId": "66e86eb2-55e2-41b7-9f39-731080d9cf2b",
    "executionInfo": {
     "status": "ok",
     "timestamp": 1.530188696356E12,
     "user_tz": -120.0,
     "elapsed": 1362.0,
     "user": {
      "displayName": "Po-Jen Wang",
      "photoUrl": "https://lh3.googleusercontent.com/a/default-user=s128",
      "userId": "115800544068920469721"
     }
    }
   },
   "outputs": [
    {
     "data": {
      "text/plain": [
       "['/job:localhost/replica:0/task:0/device:GPU:0']"
      ]
     },
     "execution_count": 3,
     "metadata": {
      "tags": []
     },
     "output_type": "execute_result"
    }
   ],
   "source": [
    "K.tensorflow_backend._get_available_gpus()"
   ]
  },
  {
   "cell_type": "code",
   "execution_count": 0,
   "metadata": {
    "id": "BToUGOWnoOyN",
    "colab_type": "code",
    "colab": {
     "autoexec": {
      "startup": false,
      "wait_interval": 0.0
     }
    }
   },
   "outputs": [],
   "source": [
    "matplotlib.rc_params()"
   ]
  },
  {
   "cell_type": "code",
   "execution_count": 0,
   "metadata": {
    "id": "0OcR9lMhMVMT",
    "colab_type": "code",
    "colab": {
     "autoexec": {
      "startup": false,
      "wait_interval": 0.0
     }
    }
   },
   "outputs": [],
   "source": [
    "!cat /proc/cpuinfo"
   ]
  },
  {
   "cell_type": "code",
   "execution_count": 0,
   "metadata": {
    "id": "vfRPxVPQMfxO",
    "colab_type": "code",
    "colab": {
     "autoexec": {
      "startup": false,
      "wait_interval": 0.0
     }
    }
   },
   "outputs": [],
   "source": [
    "!cat /proc/meminfo"
   ]
  },
  {
   "cell_type": "code",
   "execution_count": 0,
   "metadata": {
    "id": "18up17Jq_Qo_",
    "colab_type": "code",
    "colab": {
     "autoexec": {
      "startup": false,
      "wait_interval": 0.0
     }
    }
   },
   "outputs": [],
   "source": [
    "#!apt-get -qq install -y graphviz && pip install -q pydot\n",
    "#import pydot"
   ]
  },
  {
   "cell_type": "markdown",
   "metadata": {
    "id": "ALIdJWhG4GjU",
    "colab_type": "text"
   },
   "source": [
    "## Connect to Google Drive for storage "
   ]
  },
  {
   "cell_type": "markdown",
   "metadata": {
    "id": "FXsCIJvd4V_n",
    "colab_type": "text"
   },
   "source": [
    "### Pydrive"
   ]
  },
  {
   "cell_type": "code",
   "execution_count": 0,
   "metadata": {
    "id": "F1Tn5HZ54MTz",
    "colab_type": "code",
    "colab": {
     "autoexec": {
      "startup": false,
      "wait_interval": 0.0
     }
    }
   },
   "outputs": [],
   "source": [
    "# install PyDrive\n",
    "!pip install -U -q PyDrive"
   ]
  },
  {
   "cell_type": "code",
   "execution_count": 4,
   "metadata": {
    "id": "kMxCdJ-O4ihn",
    "colab_type": "code",
    "colab": {
     "autoexec": {
      "startup": false,
      "wait_interval": 0.0
     },
     "base_uri": "https://localhost:8080/",
     "height": 54.0
    },
    "outputId": "99c85fad-4a09-46f2-d1aa-fc84125fb839",
    "executionInfo": {
     "status": "ok",
     "timestamp": 1.533661039869E12,
     "user_tz": 240.0,
     "elapsed": 179.0,
     "user": {
      "displayName": "Po-Jen Wang",
      "photoUrl": "https://lh3.googleusercontent.com/a/default-user=s128",
      "userId": "115800544068920469721"
     }
    }
   },
   "outputs": [
    {
     "data": {
      "text/plain": [
       "'\\n# 2. Create & upload a file \\nuploaded = drive.CreateFile({\\'title\\': \\'Sample upload.txt\\'})\\nuploaded.SetContentString(\\'Sample upload file content\\')\\nuploaded.Upload()\\nprint(\\'Uploaded file with ID {}\\'.format(uploaded.get(\\'id\\')))\\n\\n# 3. Load a file by ID and print its contents.\\ndownloaded = drive.CreateFile({\\'id\\': uploaded.get(\\'id\\')})\\nprint(\\'Downloaded content \"{}\"\\'.format(downloaded.GetContentString()))\\n'"
      ]
     },
     "execution_count": 4,
     "metadata": {
      "tags": []
     },
     "output_type": "execute_result"
    }
   ],
   "source": [
    "from pydrive.auth import GoogleAuth\n",
    "from pydrive.drive import GoogleDrive\n",
    "from google.colab import auth\n",
    "from oauth2client.client import GoogleCredentials\n",
    "\n",
    "# 1. Authenticate and create the PyDrive client.\n",
    "auth.authenticate_user()\n",
    "gauth = GoogleAuth()\n",
    "gauth.credentials = GoogleCredentials.get_application_default()\n",
    "drive = GoogleDrive(gauth)\n",
    "\n",
    "# PyDrive reference:\n",
    "# https://googledrive.github.io/PyDrive/docs/build/html/index.html\n",
    "\n",
    "'''\n",
    "# 2. Create & upload a file \n",
    "uploaded = drive.CreateFile({'title': 'Sample upload.txt'})\n",
    "uploaded.SetContentString('Sample upload file content')\n",
    "uploaded.Upload()\n",
    "print('Uploaded file with ID {}'.format(uploaded.get('id')))\n",
    "\n",
    "# 3. Load a file by ID and print its contents.\n",
    "downloaded = drive.CreateFile({'id': uploaded.get('id')})\n",
    "print('Downloaded content \"{}\"'.format(downloaded.GetContentString()))\n",
    "'''"
   ]
  },
  {
   "cell_type": "code",
   "execution_count": 0,
   "metadata": {
    "id": "xDWz4mua5dtv",
    "colab_type": "code",
    "colab": {
     "autoexec": {
      "startup": false,
      "wait_interval": 0.0
     }
    }
   },
   "outputs": [],
   "source": [
    "def upload_file_to_specific_folder(folder_id, file_name):\n",
    "    file_metadata = {'title': file_name, \"parents\": [{\"id\": folder_id, \"kind\": \"drive#childList\"}]}\n",
    "    folder = drive.CreateFile(file_metadata)\n",
    "    folder.SetContentFile(file_name) #The contents of the file\n",
    "    folder.Upload()"
   ]
  },
  {
   "cell_type": "code",
   "execution_count": 0,
   "metadata": {
    "id": "qR4a0vST6Ak0",
    "colab_type": "code",
    "colab": {
     "autoexec": {
      "startup": false,
      "wait_interval": 0.0
     }
    }
   },
   "outputs": [],
   "source": [
    "# Auto-iterate through all files that matches this query\n",
    "#NNRatioData: 1iYZSLhjTVMwaX3PVK5dzJdywjpqsDS1Z\n",
    "file_list = drive.ListFile({'q': \"'1SH8q5-SqxKrpBax48m8HImqqlHSHSVfN' in parents and trashed=false\"}).GetList()\n",
    "for file1 in file_list:\n",
    "  print('title: %s, id: %s' % (file1['title'], file1['id']))\n"
   ]
  },
  {
   "cell_type": "code",
   "execution_count": 0,
   "metadata": {
    "id": "lH6vW_BMFBDr",
    "colab_type": "code",
    "colab": {
     "autoexec": {
      "startup": false,
      "wait_interval": 0.0
     }
    }
   },
   "outputs": [],
   "source": [
    "#Download to colab\n",
    "# Load a file by ID and print its contents.\n",
    "for file1 in file_list:\n",
    "  downloaded = drive.CreateFile({'id':file1['id']})\n",
    "  downloaded.GetContentFile(file1['title'])\n",
    "#print('Downloaded content \"{}\"'.format(downloaded.GetContentString()))"
   ]
  },
  {
   "cell_type": "code",
   "execution_count": 6,
   "metadata": {
    "id": "tQlW6LlcGiA0",
    "colab_type": "code",
    "colab": {
     "autoexec": {
      "startup": false,
      "wait_interval": 0.0
     },
     "base_uri": "https://localhost:8080/",
     "height": 51.0
    },
    "outputId": "25bbb554-ceac-4271-d290-81ed12cc1046",
    "executionInfo": {
     "status": "ok",
     "timestamp": 1.533570732707E12,
     "user_tz": 240.0,
     "elapsed": 164.0,
     "user": {
      "displayName": "Po-Jen Wang",
      "photoUrl": "https://lh3.googleusercontent.com/a/default-user=s128",
      "userId": "115800544068920469721"
     }
    }
   },
   "outputs": [
    {
     "name": "stdout",
     "output_type": "stream",
     "text": [
      "/content\n",
      "['datalab', '.cache', '.ipython', '.forever', '.config', '.keras', '.local']\n"
     ]
    }
   ],
   "source": [
    "print(os.getcwd())\n",
    "print(os.listdir('/content'))"
   ]
  },
  {
   "cell_type": "markdown",
   "metadata": {
    "id": "7ejhn4eG4RQK",
    "colab_type": "text"
   },
   "source": [
    "# Main"
   ]
  },
  {
   "cell_type": "code",
   "execution_count": 0,
   "metadata": {
    "id": "tXaup9ho44qD",
    "colab_type": "code",
    "colab": {
     "autoexec": {
      "startup": false,
      "wait_interval": 0.0
     }
    }
   },
   "outputs": [],
   "source": [
    "#sigmoid function\n",
    "def sigmoid(x):\n",
    "  return 1 / (1 + exp(-x))"
   ]
  },
  {
   "cell_type": "markdown",
   "metadata": {
    "id": "CVFdMYtLpMPN",
    "colab_type": "text"
   },
   "source": [
    "### weight-clipping\n"
   ]
  },
  {
   "cell_type": "code",
   "execution_count": 0,
   "metadata": {
    "id": "UzHFD-LjpLby",
    "colab_type": "code",
    "colab": {
     "autoexec": {
      "startup": false,
      "wait_interval": 0.0
     }
    }
   },
   "outputs": [],
   "source": [
    "class WeightClip(Constraint):\n",
    "    '''Clips the weights incident to each hidden unit to be inside a range\n",
    "    '''\n",
    "    def __init__(self, c=2):\n",
    "        self.c = c\n",
    "\n",
    "    def __call__(self, p):\n",
    "        return K.clip(p, -self.c, self.c)\n",
    "\n",
    "    def get_config(self):\n",
    "        return {'name': self.__class__.__name__,\n",
    "                'c': self.c}"
   ]
  },
  {
   "cell_type": "code",
   "execution_count": 0,
   "metadata": {
    "id": "Svkby24JKsj1",
    "colab_type": "code",
    "colab": {
     "autoexec": {
      "startup": false,
      "wait_interval": 0.0
     }
    },
    "cellView": "both"
   },
   "outputs": [],
   "source": [
    "#@title Glabal Parameters\n",
    "epochs = 100000 #@param {type:\"integer\"}\n",
    "batch_size = 1000 #@param {type:\"integer\"}\n",
    "Geteps = 0.005 #@param {type:\"number\"}\n",
    "Getmu = 0.8 #@param {type:\"number\"}\n",
    "Getsigma = 0.02 #@param {type:\"number\"}\n",
    "cut = 0. #@param {type:\"number\"}\n",
    "gcut = 0. #@param {type:\"number\"}\n"
   ]
  },
  {
   "cell_type": "code",
   "execution_count": 0,
   "metadata": {
    "id": "EMFD7K79ekmi",
    "colab_type": "code",
    "colab": {
     "autoexec": {
      "startup": false,
      "wait_interval": 0.0
     }
    }
   },
   "outputs": [],
   "source": [
    "'''Distribution functions'''\n",
    "def SM(x):\n",
    "  return exp(-8*x)\n",
    "\n",
    "def BSM(x):\n",
    "  return exp(-(x-Getmu)**2/(2*Getsigma**2))\n",
    "#Normalize distribution\n",
    "SM_norm = integrate.quad(lambda y :SM(y),cut,1)\n",
    "BSM_norm = integrate.quad(lambda y :BSM(y),cut,1)\n",
    "#SM_norm_c = integrate.quad(lambda y :SMn(y),gcut,1)\n",
    "\n",
    "#normalized distribution\n",
    "def SMn(x):\n",
    "  return exp(-8*x)/SM_norm[0]\n",
    "\n",
    "def BSMn(x):\n",
    "  return (SMn(x)+Geteps*BSM(x)/BSM_norm[0])/(1+Geteps)\n",
    "\n",
    "SM_norm_c = integrate.quad(lambda y :SM(y),gcut,1)\n",
    "\n",
    "def SMnc(x):\n",
    "  return exp(-8*x)/SM_norm_c[0]\n",
    "\n",
    "\n",
    "#define probability distribution function\n",
    "class P_SM(st.rv_continuous):\n",
    "    def _pdf(self,x):\n",
    "        return SMn(x)\n",
    "      \n",
    "class P_BSM(st.rv_continuous):\n",
    "    def _pdf(self,x):\n",
    "        return BSMn(x)        \n",
    "      \n",
    "class P_SMc(st.rv_continuous):\n",
    "    def _pdf(self,x):\n",
    "        return SMnc(x)\n",
    "      \n",
    "      \n",
    "      \n",
    "SM_gen = P_SM(a=cut,b=1,name='sm_sample')\n",
    "BSM_gen = P_BSM(a=cut,b=1,name='bsm_sample')\n",
    "SMc_gen = P_SMc(a=gcut,b=1,name='smc_sample')"
   ]
  },
  {
   "cell_type": "code",
   "execution_count": 0,
   "metadata": {
    "id": "ClIepxZP-c0s",
    "colab_type": "code",
    "colab": {
     "autoexec": {
      "startup": false,
      "wait_interval": 0.0
     }
    }
   },
   "outputs": [],
   "source": [
    "def anglen(x):\n",
    "  nm = integrate.quad(lambda y : 1*cos(y),-pi/2,pi/2)\n",
    "  return (1*cos(x))/nm[0]\n",
    "  #return 1\n",
    "\n",
    "class P_angle(st.rv_continuous):\n",
    "  def _pdf(self,x):\n",
    "    return anglen(x)\n",
    "  \n",
    "\n",
    "#angle_gen = P_angle(a=-pi/2, b=pi/2, name='angle')\n",
    "angle_gen = P_angle(a=-pi/2, b=pi/2, name='angle')"
   ]
  },
  {
   "cell_type": "code",
   "execution_count": 0,
   "metadata": {
    "id": "awo2ol1ogSxc",
    "colab_type": "code",
    "colab": {
     "autoexec": {
      "startup": false,
      "wait_interval": 0.0
     }
    }
   },
   "outputs": [],
   "source": [
    "def bsmSig(x):\n",
    "  return (Geteps*exp(-(x-Getmu)**2/(2*Getsigma**2)))/BSM_norm[0]\n",
    "\n",
    "def smSig(x):\n",
    "  return (exp(-8*x))/BSM_norm[0]"
   ]
  },
  {
   "cell_type": "markdown",
   "metadata": {
    "id": "8MrFyNRNzFIY",
    "colab_type": "text"
   },
   "source": [
    "## Save samples to Google Drive"
   ]
  },
  {
   "cell_type": "code",
   "execution_count": 0,
   "metadata": {
    "id": "nizxGY_NoJUm",
    "colab_type": "code",
    "colab": {
     "autoexec": {
      "startup": false,
      "wait_interval": 0.0
     }
    }
   },
   "outputs": [],
   "source": [
    "#Save samples\n",
    "#with open(\"smbsmSamples.npy\",'w') as ayf:\n",
    "#  ayf.write('sm_sample')\n",
    "\n",
    "np.savez('Samples200k_2k',bsm_sample=bsm_sampleT,sm_sample=sm_sample)\n",
    "#np.save('SMSamples200k.npy',sm_sample)\n",
    "#np.save('BSMSamples2k.npy',bsm_sample)"
   ]
  },
  {
   "cell_type": "code",
   "execution_count": 0,
   "metadata": {
    "id": "4OdLE44ltPNA",
    "colab_type": "code",
    "colab": {
     "autoexec": {
      "startup": false,
      "wait_interval": 0.0
     },
     "base_uri": "https://localhost:8080/",
     "height": 34.0
    },
    "outputId": "47edfa09-4afa-4f1a-daba-f2e938ff4937",
    "executionInfo": {
     "status": "ok",
     "timestamp": 1.522900975759E12,
     "user_tz": 240.0,
     "elapsed": 1083.0,
     "user": {
      "displayName": "Po-Jen Wang",
      "photoUrl": "https://lh3.googleusercontent.com/a/default-user=s128",
      "userId": "115800544068920469721"
     }
    }
   },
   "outputs": [
    {
     "name": "stdout",
     "output_type": "stream",
     "text": [
      "Uploaded file with ID 1mc7KL9q3ZK5PklKxLtq1Uj6fRZnrzhw2\n"
     ]
    }
   ],
   "source": [
    "#from pydrive.auth import GoogleAuth\n",
    "#from pydrive.drive import GoogleDrive\n",
    "#from google.colab import auth\n",
    "#from oauth2client.client import GoogleCredentials\n",
    "\n",
    "# 1. Authenticate and create the PyDrive client.\n",
    "auth.authenticate_user()\n",
    "gauth = GoogleAuth()\n",
    "gauth.credentials = GoogleCredentials.get_application_default()\n",
    "drive = GoogleDrive(gauth)\n",
    "\n",
    "# PyDrive reference:\n",
    "# https://googledrive.github.io/PyDrive/docs/build/html/index.html\n",
    "\n",
    "# 2. Create & upload a file \n",
    "uploaded = drive.CreateFile({'title': 'Samples200k_2k.npz'})\n",
    "uploaded.SetContentFile('Samples200k_2k.npz')\n",
    "uploaded.Upload()\n",
    "print('Uploaded file with ID {}'.format(uploaded.get('id')))\n"
   ]
  },
  {
   "cell_type": "code",
   "execution_count": 0,
   "metadata": {
    "id": "34K9wCv6rK44",
    "colab_type": "code",
    "colab": {
     "autoexec": {
      "startup": false,
      "wait_interval": 0.0
     },
     "base_uri": "https://localhost:8080/",
     "height": 71.0
    },
    "outputId": "ec67b2da-9bc6-41c8-b224-7195f8f54b40",
    "executionInfo": {
     "status": "ok",
     "timestamp": 1.522848503549E12,
     "user_tz": 240.0,
     "elapsed": 265.0,
     "user": {
      "displayName": "Po-Jen Wang",
      "photoUrl": "https://lh3.googleusercontent.com/a/default-user=s128",
      "userId": "115800544068920469721"
     }
    }
   },
   "outputs": [
    {
     "name": "stdout",
     "output_type": "stream",
     "text": [
      "/content\n",
      "['datalab', '.config', 'tarray_all.npy', '.forever', 'BSMSamples2k.npy', '.ipython', '.cache', 'Samples200k_2k.npz', '.local', 'model_5_3.h5', '.keras', 'BsmSamples1500_1000.npy', 'BsmSamples', 'model_5_3_S200k_2k_R100k.h5', 'model_5_3_S1500_1000.h5', 'SMSamples200k.npy', '.rnd']\n"
     ]
    }
   ],
   "source": [
    "print(os.getcwd())\n",
    "print(os.listdir('/content'))\n",
    "#print(os.listdir('/'))"
   ]
  },
  {
   "cell_type": "markdown",
   "metadata": {
    "id": "RE7fzFMezMSW",
    "colab_type": "text"
   },
   "source": [
    "## Sample Histogram"
   ]
  },
  {
   "cell_type": "code",
   "execution_count": 0,
   "metadata": {
    "id": "DylYIAg5RRCn",
    "colab_type": "code",
    "colab": {
     "autoexec": {
      "startup": false,
      "wait_interval": 0.0
     }
    }
   },
   "outputs": [],
   "source": [
    "histg, xedges, yedges =np.histogram2d(x_train[:,0],x_train[:,1])"
   ]
  },
  {
   "cell_type": "code",
   "execution_count": 0,
   "metadata": {
    "id": "6J4AzvgGSJv8",
    "colab_type": "code",
    "colab": {
     "autoexec": {
      "startup": false,
      "wait_interval": 0.0
     },
     "base_uri": "https://localhost:8080/",
     "height": 521.0
    },
    "outputId": "8a6d7794-84c9-4aac-9b02-a5f7ac7149e3",
    "executionInfo": {
     "status": "ok",
     "timestamp": 1.523656840134E12,
     "user_tz": 240.0,
     "elapsed": 343.0,
     "user": {
      "displayName": "Po-Jen Wang",
      "photoUrl": "https://lh3.googleusercontent.com/a/default-user=s128",
      "userId": "115800544068920469721"
     }
    }
   },
   "outputs": [
    {
     "data": {
      "text/plain": [
       "(array([[80., 57., 46., 42., 40., 33., 37., 42., 53., 65.],\n",
       "        [52., 37., 21., 33., 31., 14., 24., 24., 46., 49.],\n",
       "        [25., 27., 19., 17., 17., 10., 12., 19., 31., 29.],\n",
       "        [17., 17., 13.,  6.,  9.,  8., 11., 10., 14., 22.],\n",
       "        [20.,  9., 12., 10.,  7., 10.,  3.,  7.,  8., 16.],\n",
       "        [11., 14.,  6.,  6.,  2.,  4.,  6.,  6., 14., 18.],\n",
       "        [11.,  6.,  8.,  2.,  5.,  5.,  3.,  9., 12., 19.],\n",
       "        [ 4.,  4.,  5.,  3.,  2.,  1.,  3.,  3.,  5.,  3.],\n",
       "        [ 4.,  2.,  3.,  2.,  0.,  2.,  0.,  3.,  1.,  5.],\n",
       "        [ 2.,  2.,  2.,  1.,  0.,  3.,  0.,  2.,  2.,  3.]]),\n",
       " array([0.50001033, 0.54970214, 0.59939395, 0.64908576, 0.69877757,\n",
       "        0.74846938, 0.79816118, 0.84785299, 0.8975448 , 0.94723661,\n",
       "        0.99692842]),\n",
       " array([-1.56844476e+00, -1.25459271e+00, -9.40740665e-01, -6.26888618e-01,\n",
       "        -3.13036571e-01,  8.15476217e-04,  3.14667523e-01,  6.28519571e-01,\n",
       "         9.42371618e-01,  1.25622366e+00,  1.57007571e+00]),\n",
       " <matplotlib.image.AxesImage at 0x7f65a5f8feb8>)"
      ]
     },
     "execution_count": 32,
     "metadata": {
      "tags": []
     },
     "output_type": "execute_result"
    },
    {
     "data": {
      "image/png": "[encoded data removed]",
      "text/plain": [
       "<matplotlib.figure.Figure at 0x7f65a5f8f6d8>"
      ]
     },
     "metadata": {
      "tags": []
     },
     "output_type": "display_data"
    }
   ],
   "source": [
    "f = plt.figure(figsize=(7,3))\n",
    "ax = f.add_subplot(131, title='imshow: square bins')\n",
    "ax.hist2d(x_train[:,0],x_train[:,1])"
   ]
  },
  {
   "cell_type": "code",
   "execution_count": 0,
   "metadata": {
    "id": "x6oaIbIY_MHa",
    "colab_type": "code",
    "colab": {
     "autoexec": {
      "startup": false,
      "wait_interval": 0.0
     },
     "base_uri": "https://localhost:8080/",
     "height": 362.0
    },
    "outputId": "ac5d6802-2896-40e3-f150-367c6dc982f6",
    "executionInfo": {
     "status": "ok",
     "timestamp": 1.523568448303E12,
     "user_tz": 240.0,
     "elapsed": 461.0,
     "user": {
      "displayName": "Po-Jen Wang",
      "photoUrl": "https://lh3.googleusercontent.com/a/default-user=s128",
      "userId": "115800544068920469721"
     }
    }
   },
   "outputs": [
    {
     "data": {
      "image/png": "[encoded data removed]",
      "text/plain": [
       "<matplotlib.figure.Figure at 0x7fcf07ab5a58>"
      ]
     },
     "metadata": {
      "tags": []
     },
     "output_type": "display_data"
    }
   ],
   "source": [
    "#Plot Histogram\n",
    "#plt.hist(sm_sample, bins='auto')  # arguments are passed to np.histogram\n",
    "plt.hist(x_train[:,0], bins='auto') \n",
    "plt.title(\"Reference Dist Exp(-8x)\")\n",
    "plt.show()\n"
   ]
  },
  {
   "cell_type": "code",
   "execution_count": 0,
   "metadata": {
    "id": "PL7BmhbBL6Ss",
    "colab_type": "code",
    "colab": {
     "autoexec": {
      "startup": false,
      "wait_interval": 0.0
     }
    }
   },
   "outputs": [],
   "source": [
    "bsm_cut = []\n",
    "for x in bsm_sample:\n",
    "  if x >= 0.5:\n",
    "    bsm_cut.append(x)"
   ]
  },
  {
   "cell_type": "code",
   "execution_count": 0,
   "metadata": {
    "id": "nFSDMLUIBYPk",
    "colab_type": "code",
    "colab": {
     "autoexec": {
      "startup": false,
      "wait_interval": 0.0
     },
     "base_uri": "https://localhost:8080/",
     "height": 347.0
    },
    "outputId": "f46a2dc1-b50f-4a15-8e7c-48911a3c8333",
    "executionInfo": {
     "status": "ok",
     "timestamp": 1.52339460818E12,
     "user_tz": 240.0,
     "elapsed": 503.0,
     "user": {
      "displayName": "Po-Jen Wang",
      "photoUrl": "https://lh3.googleusercontent.com/a/default-user=s128",
      "userId": "115800544068920469721"
     }
    }
   },
   "outputs": [
    {
     "data": {
      "image/png": "[encoded data removed]",
      "text/plain": [
       "<matplotlib.figure.Figure at 0x7f4c6cd53eb8>"
      ]
     },
     "metadata": {
      "tags": []
     },
     "output_type": "display_data"
    }
   ],
   "source": [
    "bsm_hist=plt.hist(bsm_sample, bins=25)  # arguments are passed to np.histogram"
   ]
  },
  {
   "cell_type": "code",
   "execution_count": 0,
   "metadata": {
    "id": "YO_lH9HTV3Nn",
    "colab_type": "code",
    "colab": {
     "autoexec": {
      "startup": false,
      "wait_interval": 0.0
     },
     "base_uri": "https://localhost:8080/",
     "height": 34.0
    },
    "outputId": "033bb96c-084c-45fd-e113-46a46ec0f640",
    "executionInfo": {
     "status": "ok",
     "timestamp": 1.523163441358E12,
     "user_tz": 240.0,
     "elapsed": 271.0,
     "user": {
      "displayName": "Po-Jen Wang",
      "photoUrl": "https://lh3.googleusercontent.com/a/default-user=s128",
      "userId": "115800544068920469721"
     }
    }
   },
   "outputs": [
    {
     "name": "stdout",
     "output_type": "stream",
     "text": [
      "39 3602\n"
     ]
    }
   ],
   "source": [
    "print(len(bsm_cut),len(sm_cut))"
   ]
  },
  {
   "cell_type": "code",
   "execution_count": 0,
   "metadata": {
    "id": "vAGipQmsWrag",
    "colab_type": "code",
    "colab": {
     "autoexec": {
      "startup": false,
      "wait_interval": 0.0
     }
    }
   },
   "outputs": [],
   "source": [
    "sm_target_c = np.zeros(len(sm_cut))\n",
    "bsm_target_c = np.ones(len(bsm_cut))\n",
    "\n",
    "x_train_cut = np.append(sm_cut,bsm_cut)\n",
    "y_train_cut = np.append(sm_target_c,bsm_target_c)\n",
    "\n",
    "rfw = len(sm_cut)/len(bsm_cut)"
   ]
  },
  {
   "cell_type": "markdown",
   "metadata": {
    "id": "dTnYeOqjitZa",
    "colab_type": "text"
   },
   "source": [
    "### generate another sample"
   ]
  },
  {
   "cell_type": "code",
   "execution_count": 0,
   "metadata": {
    "id": "pVQmEYIKhtSZ",
    "colab_type": "code",
    "colab": {
     "autoexec": {
      "startup": false,
      "wait_interval": 0.0
     }
    }
   },
   "outputs": [],
   "source": [
    "bsm_sampleT= BSM_gen.rvs(size=2000)\n",
    "\n",
    "bsm_cutT = []\n",
    "for x in bsm_sampleT:\n",
    "  if x >= 0.5:\n",
    "    bsm_cutT.append(x)"
   ]
  },
  {
   "cell_type": "code",
   "execution_count": 0,
   "metadata": {
    "id": "2LbomJvmhzT2",
    "colab_type": "code",
    "colab": {
     "autoexec": {
      "startup": false,
      "wait_interval": 0.0
     },
     "base_uri": "https://localhost:8080/",
     "height": 347.0
    },
    "outputId": "8248d005-5e0c-4d0a-b64c-8c824470767d",
    "executionInfo": {
     "status": "ok",
     "timestamp": 1.523118621921E12,
     "user_tz": 240.0,
     "elapsed": 381.0,
     "user": {
      "displayName": "Po-Jen Wang",
      "photoUrl": "https://lh3.googleusercontent.com/a/default-user=s128",
      "userId": "115800544068920469721"
     }
    }
   },
   "outputs": [
    {
     "data": {
      "image/png": "[encoded data removed]",
      "text/plain": [
       "<matplotlib.figure.Figure at 0x7fde6b6e4c88>"
      ]
     },
     "metadata": {
      "tags": []
     },
     "output_type": "display_data"
    }
   ],
   "source": [
    "test_hist=plt.hist(bsm_cutT, bins=25)"
   ]
  },
  {
   "cell_type": "code",
   "execution_count": 0,
   "metadata": {
    "id": "EiMZUfosiiqM",
    "colab_type": "code",
    "colab": {
     "autoexec": {
      "startup": false,
      "wait_interval": 0.0
     }
    }
   },
   "outputs": [],
   "source": [
    "np.savez('Samples200k_2k_R2',bsm_sample=bsm_sampleT,sm_sample=sm_sample)"
   ]
  },
  {
   "cell_type": "code",
   "execution_count": 0,
   "metadata": {
    "id": "JaNZG2tUi-ux",
    "colab_type": "code",
    "colab": {
     "autoexec": {
      "startup": false,
      "wait_interval": 0.0
     },
     "base_uri": "https://localhost:8080/",
     "height": 71.0
    },
    "outputId": "72805c72-c60d-4edb-b89b-788c1989616f",
    "executionInfo": {
     "status": "ok",
     "timestamp": 1.52311194984E12,
     "user_tz": 240.0,
     "elapsed": 250.0,
     "user": {
      "displayName": "Po-Jen Wang",
      "photoUrl": "https://lh3.googleusercontent.com/a/default-user=s128",
      "userId": "115800544068920469721"
     }
    }
   },
   "outputs": [
    {
     "name": "stdout",
     "output_type": "stream",
     "text": [
      "/content\n",
      "['datalab', '.nv', 'tarray_all.npy', 'BsmSamples', '.rnd', 'model_5_cut_R2_5M.h5', '.cache', 'model_5_S200k_2k_R500k.h5', '.ipython', 'Samples200k_2k.npz', '.keras', 'model_5_S200k_2k_R1_3M.h5', 'model_5_cut_R1_5M.h5', 'model_5_3.h5', 'model_5_S200k_2k_R1M.h5', 'model_5_S200k_2k_R1_1M.h5', 'Samples200k_2k_R2.npz', '.local', 'model_5_3_S200k_2k_R100k.h5', '.config', 'BsmSamples1500_1000.npy', 'model_5_3_S200k_2k_R200k.h5', '.forever', 'model_5_3_S1500_1000.h5', 'model_5_S200k_2k_R1_5M.h5']\n"
     ]
    }
   ],
   "source": [
    "print(os.getcwd())\n",
    "print(os.listdir('/content'))"
   ]
  },
  {
   "cell_type": "code",
   "execution_count": 0,
   "metadata": {
    "id": "2HgJ-rdVjLIE",
    "colab_type": "code",
    "colab": {
     "autoexec": {
      "startup": false,
      "wait_interval": 0.0
     }
    }
   },
   "outputs": [],
   "source": [
    "sm_target_c = np.zeros(len(sm_cut))\n",
    "bsm_target_c = np.ones(len(bsm_cutT))\n",
    "\n",
    "x_train_cut = np.append(sm_cut,bsm_cutT)\n",
    "y_train_cut = np.append(sm_target_c,bsm_target_c)\n",
    "\n",
    "rfw = len(sm_cut)/len(bsm_cutT)"
   ]
  },
  {
   "cell_type": "code",
   "execution_count": 0,
   "metadata": {
    "id": "OtIqGPZYi5r5",
    "colab_type": "code",
    "colab": {
     "autoexec": {
      "startup": false,
      "wait_interval": 0.0
     },
     "base_uri": "https://localhost:8080/",
     "height": 34.0
    },
    "outputId": "28229c37-719c-47ac-cb3e-eb6a8a3c26d3",
    "executionInfo": {
     "status": "ok",
     "timestamp": 1.523111979991E12,
     "user_tz": 240.0,
     "elapsed": 893.0,
     "user": {
      "displayName": "Po-Jen Wang",
      "photoUrl": "https://lh3.googleusercontent.com/a/default-user=s128",
      "userId": "115800544068920469721"
     }
    }
   },
   "outputs": [
    {
     "name": "stdout",
     "output_type": "stream",
     "text": [
      "Uploaded file with ID 1irHGT7u8xWDZBzfAryesx0dwNI2GdcGH\n"
     ]
    }
   ],
   "source": [
    "#from pydrive.auth import GoogleAuth\n",
    "#from pydrive.drive import GoogleDrive\n",
    "#from google.colab import auth\n",
    "#from oauth2client.client import GoogleCredentials\n",
    "\n",
    "# 1. Authenticate and create the PyDrive client.\n",
    "auth.authenticate_user()\n",
    "gauth = GoogleAuth()\n",
    "gauth.credentials = GoogleCredentials.get_application_default()\n",
    "drive = GoogleDrive(gauth)\n",
    "\n",
    "# PyDrive reference:\n",
    "# https://googledrive.github.io/PyDrive/docs/build/html/index.html\n",
    "\n",
    "# 2. Create & upload a file \n",
    "uploaded = drive.CreateFile({'title': 'Samples200k_2k_R2.npz'})\n",
    "uploaded.SetContentFile('Samples200k_2k_R2.npz')\n",
    "uploaded.Upload()\n",
    "print('Uploaded file with ID {}'.format(uploaded.get('id')))"
   ]
  },
  {
   "cell_type": "markdown",
   "metadata": {
    "id": "zvt6Bk4_n7sy",
    "colab_type": "text"
   },
   "source": [
    "## Build NN and Train"
   ]
  },
  {
   "cell_type": "code",
   "execution_count": 0,
   "metadata": {
    "id": "asXwZLA8eaoO",
    "colab_type": "code",
    "colab": {
     "autoexec": {
      "startup": false,
      "wait_interval": 0.0
     }
    }
   },
   "outputs": [],
   "source": [
    "#define custom loss function\n",
    "\n",
    "def customloss(yTrue,yPred):\n",
    "  return yTrue*K.log(1+K.exp(-yPred))+1/rfw*(1-yTrue)*K.log(1+K.exp(yPred))\n",
    "\n",
    "rmsprop = keras.optimizers.RMSprop()\n",
    "\n",
    "#clipvalue=0.5"
   ]
  },
  {
   "cell_type": "code",
   "execution_count": 0,
   "metadata": {
    "id": "1RUvLRs4uLCe",
    "colab_type": "code",
    "colab": {
     "autoexec": {
      "startup": false,
      "wait_interval": 0.0
     }
    }
   },
   "outputs": [],
   "source": [
    "sgd = optimizers.SGD()"
   ]
  },
  {
   "cell_type": "markdown",
   "metadata": {
    "id": "4j5krT7BSRNJ",
    "colab_type": "text"
   },
   "source": [
    "### Generate samples"
   ]
  },
  {
   "cell_type": "code",
   "execution_count": 0,
   "metadata": {
    "id": "R8oZ2q2I5OPp",
    "colab_type": "code",
    "colab": {
     "autoexec": {
      "startup": false,
      "wait_interval": 0.0
     }
    }
   },
   "outputs": [],
   "source": [
    "#Data and References\n",
    "NRsm=200000\n",
    "Nbsm=4020\n",
    "NR = 4000\n",
    "\n",
    "Ref_sample = SM_gen.rvs(size=NRsm)\n",
    "bsm_sample= BSM_gen.rvs(size=Nbsm)\n",
    "\n",
    "#Angle distribution function\n",
    "#anglesSM = np.random.uniform(low=-pi,high=pi,size=NRsm)\n",
    "#anglesBSM = np.random.uniform(low=-pi,high=pi,size=Nbsm)\n",
    "anglesSM = angle_gen.rvs(size=NRsm)\n",
    "anglesBSM= angle_gen.rvs(size=Nbsm)\n",
    "\n",
    "#sm_target = np.zeros(NRsm)\n",
    "#bsm_target = np.ones(Nbsm)\n",
    "\n",
    "#xmass = np.append(sm_sample,bsm_sample)\n",
    "#xangle = np.append(anglesSM,anglesBSM)\n",
    "\n",
    "#x_train = np.append(sm_sample,bsm_sample)\n",
    "#x_train = np.column_stack((xmass,xangle))\n",
    "#y_train = np.append(sm_target,bsm_target)\n",
    "\n",
    "rfw = NRsm/NR"
   ]
  },
  {
   "cell_type": "code",
   "execution_count": 0,
   "metadata": {
    "id": "x_TSRcBWyJRu",
    "colab_type": "code",
    "colab": {
     "autoexec": {
      "startup": false,
      "wait_interval": 0.0
     }
    }
   },
   "outputs": [],
   "source": [
    "bsm_sample= BSM_gen.rvs(size=Nbsm)\n",
    "anglesSM = angle_gen.rvs(size=NRsm)\n",
    "anglesBSM= angle_gen.rvs(size=Nbsm)"
   ]
  },
  {
   "cell_type": "markdown",
   "metadata": {
    "id": "gHzqr-kPSbV3",
    "colab_type": "text"
   },
   "source": [
    "#### save the generated sample"
   ]
  },
  {
   "cell_type": "code",
   "execution_count": 0,
   "metadata": {
    "id": "I2OGDTYXWi7R",
    "colab_type": "code",
    "colab": {
     "autoexec": {
      "startup": false,
      "wait_interval": 0.0
     }
    }
   },
   "outputs": [],
   "source": [
    "sfilename = 'Sample200k_4k_R1n'\n",
    "#Sample200k_4k.npz\n",
    "np.savez(sfilename,bsm_sample=bsm_sample,Ref_sample=Ref_sample,anglesSM=anglesSM,anglesBSM=anglesBSM)\n",
    "\n",
    "upload_file_to_specific_folder('1SH8q5-SqxKrpBax48m8HImqqlHSHSVfN',sfilename+'.npz')"
   ]
  },
  {
   "cell_type": "markdown",
   "metadata": {
    "id": "hYd_z2u3SXl7",
    "colab_type": "text"
   },
   "source": [
    "### Load saved samples"
   ]
  },
  {
   "cell_type": "code",
   "execution_count": 0,
   "metadata": {
    "id": "47gXMVUfJEKB",
    "colab_type": "code",
    "colab": {
     "autoexec": {
      "startup": false,
      "wait_interval": 0.0
     }
    }
   },
   "outputs": [],
   "source": [
    "samples=np.load('Sample200k_4k_R12.npz');\n",
    "NRsm=200000\n",
    "Nbsm=4020\n",
    "sm_sample = samples['sm_sample']\n",
    "bsm_sample= samples['bsm_sample']\n",
    "\n",
    "#anglesSM=samples['anglesSM'];\n",
    "#anglesBSM=samples['anglesBSM'];\n",
    "anglesSM = angle_gen.rvs(size=NRsm)\n",
    "anglesBSM= angle_gen.rvs(size=Nbsm)\n",
    "\n",
    "#xmass = np.append(sm_sample,bsm_sample)\n",
    "#xangle = np.append(anglesSM,anglesBSM)\n",
    "#sm_target = np.zeros(NRsm)\n",
    "#bsm_target = np.ones(Nbsm)\n",
    "\n",
    "#x_train = np.append(sm_sample,bsm_sample)\n",
    "x_train = np.column_stack((xmass,xangle))\n",
    "y_train = np.append(sm_target,bsm_target)\n",
    "\n",
    "rfw = NRsm/Nbsm"
   ]
  },
  {
   "cell_type": "markdown",
   "metadata": {
    "id": "gU0m3c40SiA9",
    "colab_type": "text"
   },
   "source": [
    "## Binning the Ref Sample"
   ]
  },
  {
   "cell_type": "code",
   "execution_count": 0,
   "metadata": {
    "id": "nbbQPWQSGwsz",
    "colab_type": "code",
    "colab": {
     "autoexec": {
      "startup": false,
      "wait_interval": 0.0
     }
    }
   },
   "outputs": [],
   "source": [
    "#x_train_bsm = np.column_stack(bsm_sample,anglesBSM)\n",
    "Nb_angle = 50\n",
    "Nb_mass = 100\n",
    "\n",
    "H2d,yedge,xedge = np.histogram2d(anglesSM,Ref_sample,bins=[np.linspace(-pi/2,pi/2,Nb_angle+1),np.linspace(0,1,Nb_mass+1)])"
   ]
  },
  {
   "cell_type": "code",
   "execution_count": 0,
   "metadata": {
    "id": "KS3x4zHUq3YX",
    "colab_type": "code",
    "colab": {
     "autoexec": {
      "startup": false,
      "wait_interval": 0.0
     }
    }
   },
   "outputs": [],
   "source": [
    "def moving_average(a, n=2) :\n",
    "    ret = np.cumsum(a, dtype=float)\n",
    "    ret[n:] = ret[n:] - ret[:-n]\n",
    "    return ret[n - 1:] / n\n"
   ]
  },
  {
   "cell_type": "code",
   "execution_count": 0,
   "metadata": {
    "id": "Y-j5hqs_q7Ik",
    "colab_type": "code",
    "colab": {
     "autoexec": {
      "startup": false,
      "wait_interval": 0.0
     }
    }
   },
   "outputs": [],
   "source": [
    "xpos = moving_average(xedge,2);\n",
    "\n",
    "ypos = moving_average(yedge,2);\n",
    "\n",
    "wlist = []\n",
    "\n",
    "for xidx, xval in enumerate(xpos):\n",
    "  for yidx, yval in enumerate(ypos):\n",
    "    wlist.append([yval,xval,H2d[yidx][xidx]])\n"
   ]
  },
  {
   "cell_type": "code",
   "execution_count": 0,
   "metadata": {
    "id": "CI-VJvNJ0DxS",
    "colab_type": "code",
    "colab": {
     "autoexec": {
      "startup": false,
      "wait_interval": 0.0
     }
    }
   },
   "outputs": [],
   "source": [
    "xposf=[]; yposf=[]; zposf = [] ;\n",
    "\n",
    "for elem in wlist:\n",
    "  xposf.append(elem[1])\n",
    "  yposf.append(elem[0])\n",
    "  zposf.append(elem[2])"
   ]
  },
  {
   "cell_type": "code",
   "execution_count": 21,
   "metadata": {
    "id": "oT-D_yZD5ihQ",
    "colab_type": "code",
    "colab": {
     "autoexec": {
      "startup": false,
      "wait_interval": 0.0
     },
     "base_uri": "https://localhost:8080/",
     "height": 265.0
    },
    "outputId": "e9c27f98-a1a5-4262-d49c-7d3a160f4f95",
    "executionInfo": {
     "status": "ok",
     "timestamp": 1.533662081919E12,
     "user_tz": 240.0,
     "elapsed": 1118.0,
     "user": {
      "displayName": "Po-Jen Wang",
      "photoUrl": "https://lh3.googleusercontent.com/a/default-user=s128",
      "userId": "115800544068920469721"
     }
    }
   },
   "outputs": [
    {
     "data": {
      "text/plain": [
       "Text(0.5,0,u'Z Label')"
      ]
     },
     "execution_count": 21,
     "metadata": {
      "tags": []
     },
     "output_type": "execute_result"
    },
    {
     "data": {
      "image/png": "[encoded data removed]",
      "text/plain": [
       "<matplotlib.figure.Figure at 0x7f99aec4c510>"
      ]
     },
     "metadata": {
      "tags": []
     },
     "output_type": "display_data"
    }
   ],
   "source": [
    "fig = plt.figure()\n",
    "ax = fig.add_subplot(111, projection='3d')\n",
    "\n",
    "#testarray=np.array([1,2,3,4])\n",
    "\n",
    "ax.scatter(xposf, yposf, zposf)\n",
    "ax.view_init(30,50)\n",
    "ax.set_xlabel('X Label')\n",
    "ax.set_ylabel('Y Label')\n",
    "ax.set_zlabel('Z Label')\n",
    "#ax.scatter(testarray,testarray,testarray, marker='o')"
   ]
  },
  {
   "cell_type": "code",
   "execution_count": 0,
   "metadata": {
    "id": "FHGgK8ww-ZvX",
    "colab_type": "code",
    "colab": {
     "autoexec": {
      "startup": false,
      "wait_interval": 0.0
     }
    }
   },
   "outputs": [],
   "source": [
    "Nbins = Nb_angle*Nb_mass\n",
    "xmass = np.append(xposf,bsm_sample)\n",
    "xangle = np.append(yposf,anglesBSM)\n",
    "#sm_target = np.zeros(NRsm)\n",
    "sm_target = np.zeros(Nbins)\n",
    "bsm_target = np.ones(Nbsm)\n",
    "\n",
    "#x_train = np.append(sm_sample,bsm_sample)\n",
    "x_train = np.column_stack((xmass,xangle))\n",
    "y_train = np.append(sm_target,bsm_target)\n",
    "weightlossa = np.append(np.asarray(zposf),bsm_target)\n",
    "weightloss = K.variable(value=weightlossa.reshape((Nbsm+Nbins,1)))\n",
    "\n",
    "#weightlossdict = dict(zip(y_train,weightloss))\n",
    "#weightlossdict = {'y_train':weightloss}\n",
    "\n",
    "\n",
    "#rfw = NRsm/Nbsm"
   ]
  },
  {
   "cell_type": "code",
   "execution_count": 23,
   "metadata": {
    "id": "JYKjZVr9_8sH",
    "colab_type": "code",
    "colab": {
     "autoexec": {
      "startup": false,
      "wait_interval": 0.0
     },
     "base_uri": "https://localhost:8080/",
     "height": 34.0
    },
    "outputId": "5cfa61bf-a0d1-4f41-bf53-a4e2207a8482",
    "executionInfo": {
     "status": "ok",
     "timestamp": 1.533662087796E12,
     "user_tz": 240.0,
     "elapsed": 376.0,
     "user": {
      "displayName": "Po-Jen Wang",
      "photoUrl": "https://lh3.googleusercontent.com/a/default-user=s128",
      "userId": "115800544068920469721"
     }
    }
   },
   "outputs": [
    {
     "name": "stdout",
     "output_type": "stream",
     "text": [
      "(9020, 2) (9020,) (9020, 1)\n"
     ]
    }
   ],
   "source": [
    "print(x_train.shape,\n",
    "y_train.shape,\n",
    "      weightloss.shape)"
   ]
  },
  {
   "cell_type": "code",
   "execution_count": 0,
   "metadata": {
    "id": "nLiV74GJJIH2",
    "colab_type": "code",
    "colab": {
     "autoexec": {
      "startup": false,
      "wait_interval": 0.0
     }
    }
   },
   "outputs": [],
   "source": [
    "fig = plt.figure(figsize=(10,15))\n",
    "#ax1 = fig.add_subplot(221, projection='3d'\n",
    "ax = fig.add_subplot(111)\n",
    "ax.set_title('pcolormesh: exact bin edges')\n",
    "X, Y = np.meshgrid(xedge, yedge)\n",
    "ax.pcolormesh(X, Y, H2d)\n",
    "ax.set_aspect('equal')"
   ]
  },
  {
   "cell_type": "code",
   "execution_count": 0,
   "metadata": {
    "id": "q9Fg19wYhNMp",
    "colab_type": "code",
    "colab": {
     "autoexec": {
      "startup": false,
      "wait_interval": 0.0
     }
    }
   },
   "outputs": [],
   "source": [
    "f = plt.figure(figsize=(7,7))\n",
    "ax = f.add_subplot(111, title='imshow: square bins')\n",
    "ax.hist2d(x_train[:,0],x_train[:,1],bins=25)"
   ]
  },
  {
   "cell_type": "code",
   "execution_count": 0,
   "metadata": {
    "id": "w_wHp8V7X2R0",
    "colab_type": "code",
    "colab": {
     "autoexec": {
      "startup": false,
      "wait_interval": 0.0
     }
    }
   },
   "outputs": [],
   "source": [
    "plt.hist(bsm_sample, bins=25)"
   ]
  },
  {
   "cell_type": "code",
   "execution_count": 25,
   "metadata": {
    "id": "GG2AQCXY8_Gu",
    "colab_type": "code",
    "colab": {
     "autoexec": {
      "startup": false,
      "wait_interval": 0.0
     },
     "base_uri": "https://localhost:8080/",
     "height": 265.0
    },
    "outputId": "da6d3a54-5bbf-448c-c4a6-b5ec34707c4f",
    "executionInfo": {
     "status": "ok",
     "timestamp": 1.533662101676E12,
     "user_tz": 240.0,
     "elapsed": 530.0,
     "user": {
      "displayName": "Po-Jen Wang",
      "photoUrl": "https://lh3.googleusercontent.com/a/default-user=s128",
      "userId": "115800544068920469721"
     }
    }
   },
   "outputs": [
    {
     "data": {
      "image/png": "[encoded data removed]",
      "text/plain": [
       "<matplotlib.figure.Figure at 0x7f99aec59d10>"
      ]
     },
     "metadata": {
      "tags": []
     },
     "output_type": "display_data"
    }
   ],
   "source": [
    "#Plot x distribution\n",
    "sm_cut = []\n",
    "for y in Ref_sample:\n",
    "  if y >= gcut:\n",
    "    sm_cut.append(y)\n",
    "\n",
    "\n",
    "bsm_cut = []\n",
    "for x in bsm_sample:\n",
    "  if x >= 0.5:\n",
    "    bsm_cut.append(x)\n",
    "    \n",
    "    \n",
    "bsm_hist=plt.hist(bsm_cut, bins=25)"
   ]
  },
  {
   "cell_type": "code",
   "execution_count": 0,
   "metadata": {
    "id": "V3xIWb7DII-6",
    "colab_type": "code",
    "colab": {
     "autoexec": {
      "startup": false,
      "wait_interval": 0.0
     },
     "base_uri": "https://localhost:8080/",
     "height": 34.0
    },
    "outputId": "dd7459af-3c86-4ffc-bc1f-199817b5c3cd",
    "executionInfo": {
     "status": "ok",
     "timestamp": 1.529581952691E12,
     "user_tz": -120.0,
     "elapsed": 647.0,
     "user": {
      "displayName": "Po-Jen Wang",
      "photoUrl": "https://lh3.googleusercontent.com/a/default-user=s128",
      "userId": "115800544068920469721"
     }
    }
   },
   "outputs": [
    {
     "name": "stdout",
     "output_type": "stream",
     "text": [
      "3615 83\n"
     ]
    }
   ],
   "source": [
    "print( len(sm_cut), len(bsm_cut))"
   ]
  },
  {
   "cell_type": "code",
   "execution_count": 0,
   "metadata": {
    "id": "ioIp1hDSHwJ8",
    "colab_type": "code",
    "colab": {
     "autoexec": {
      "startup": false,
      "wait_interval": 0.0
     }
    }
   },
   "outputs": [],
   "source": [
    "#samples after the cut\n",
    "Nsm_c = len(sm_cut)\n",
    "Nbsm_c = len(bsm_cut)\n",
    "\n",
    "#angles = np.random.uniform(-pi,pi,1200)\n",
    "anglesSM_c = angle_gen.rvs(size=Nsm_c)\n",
    "anglesBSM_c= angle_gen.rvs(size=Nbsm_c)\n",
    "\n",
    "sm_target_c = np.zeros(Nsm_c)\n",
    "bsm_target_c = np.ones(Nbsm_c)\n",
    "\n",
    "xmass_c = np.append(sm_cut,bsm_cut)\n",
    "xangle_c = np.append(anglesSM_c,anglesBSM_c)\n",
    "\n",
    "#x_train = np.append(sm_sample,bsm_sample)\n",
    "x_train_c = np.column_stack((xmass_c,xangle_c))\n",
    "y_train_c = np.append(sm_target_c,bsm_target_c)\n",
    "\n",
    "rfw_c = Nsm_c/Nbsm_c"
   ]
  },
  {
   "cell_type": "code",
   "execution_count": 0,
   "metadata": {
    "id": "bgsbCppKxFIb",
    "colab_type": "code",
    "colab": {
     "autoexec": {
      "startup": false,
      "wait_interval": 0.0
     }
    }
   },
   "outputs": [],
   "source": [
    "f = plt.figure(figsize=(7,7))\n",
    "ax = f.add_subplot(111, title='imshow: square bins')\n",
    "ax.hist2d(x_train_c[:,0],x_train_c[:,1],bins=25)"
   ]
  },
  {
   "cell_type": "markdown",
   "metadata": {
    "id": "mIifO6333Mja",
    "colab_type": "text"
   },
   "source": [
    "### loss functions"
   ]
  },
  {
   "cell_type": "code",
   "execution_count": 0,
   "metadata": {
    "id": "Tj5Tqg7mR8Le",
    "colab_type": "code",
    "colab": {
     "autoexec": {
      "startup": false,
      "wait_interval": 0.0
     }
    }
   },
   "outputs": [],
   "source": [
    "#define custom loss function\n",
    "\n",
    "def customlossML(yTrue,yPred):\n",
    "  return -yTrue*yPred+1/rfw*(1-yTrue)*(K.exp(yPred)-1)\n",
    "\n",
    "rmsprop = keras.optimizers.RMSprop()\n",
    "\n",
    "#clipvalue=0.5"
   ]
  },
  {
   "cell_type": "code",
   "execution_count": 0,
   "metadata": {
    "id": "R5EXLBxHnkyl",
    "colab_type": "code",
    "colab": {
     "autoexec": {
      "startup": false,
      "wait_interval": 0.0
     }
    }
   },
   "outputs": [],
   "source": [
    "#Maximum likelihood loss function with binning weight\n",
    "def customlossML(sw):\n",
    "  #ksw = K.variable(value=sw0.reshape((len(sw0),1)))\n",
    "  Nt = Nbsm+Nbins\n",
    "  def lossML(yTrue,yPred):\n",
    "    sw_rs = K.reshape(sw,(Nt,1))\n",
    "    ytrue_rs = K.reshape(yTrue,(Nt,1))\n",
    "    ypred_rs = K.reshape(yPred,(Nt,1))\n",
    "    return -K.sum(ytrue_rs*sw_rs*ypred_rs)+K.sum((1-ytrue_rs)*sw_rs*(K.exp(ypred_rs)-1))/rfw\n",
    "    #return (K.exp(ypred_rs)-1)\n",
    "    #return K.sum(-ytrue_rs*ypred_rs*sw_rs+1/rfw*(1-ytrue_rs)*(K.exp(ypred_rs)-1)*sw_rs)\n",
    "  return lossML\n",
    "\n",
    "rmsprop = keras.optimizers.RMSprop()"
   ]
  },
  {
   "cell_type": "code",
   "execution_count": 0,
   "metadata": {
    "id": "KEOn9Dm55jPP",
    "colab_type": "code",
    "colab": {
     "autoexec": {
      "startup": false,
      "wait_interval": 0.0
     },
     "base_uri": "https://localhost:8080/",
     "height": 34.0
    },
    "outputId": "e2816ae9-dedd-4514-9283-ab113b293aa3",
    "executionInfo": {
     "status": "ok",
     "timestamp": 1.527890298739E12,
     "user_tz": 240.0,
     "elapsed": 1143.0,
     "user": {
      "displayName": "James Wang",
      "photoUrl": "https://lh3.googleusercontent.com/a/default-user=s128",
      "userId": "113666876107193549672"
     }
    }
   },
   "outputs": [
    {
     "name": "stdout",
     "output_type": "stream",
     "text": [
      "Uploaded file with ID 1gDvc_ckFfSJCiXvihZPLvsHCuHMjAyYF\n"
     ]
    }
   ],
   "source": [
    "samplefile='Samples800_100_s1'\n",
    "\n",
    "np.savez(samplefile,xmass=xmass,xangle=xangle)\n",
    "\n",
    "\n",
    "\n",
    "# 1. Authenticate and create the PyDrive client.\n",
    "auth.authenticate_user()\n",
    "gauth = GoogleAuth()\n",
    "gauth.credentials = GoogleCredentials.get_application_default()\n",
    "drive = GoogleDrive(gauth)\n",
    "\n",
    "# PyDrive reference:\n",
    "# https://googledrive.github.io/PyDrive/docs/build/html/index.html\n",
    "\n",
    "# 2. Create & upload a file \n",
    "uploaded = drive.CreateFile({'title': samplefile+'.npz'})\n",
    "uploaded.SetContentFile(samplefile+'.npz')\n",
    "uploaded.Upload()\n",
    "print('Uploaded file with ID {}'.format(uploaded.get('id')))"
   ]
  },
  {
   "cell_type": "markdown",
   "metadata": {
    "id": "vbGqsiRz3RUJ",
    "colab_type": "text"
   },
   "source": [
    "## build NN"
   ]
  },
  {
   "cell_type": "code",
   "execution_count": 34,
   "metadata": {
    "id": "-R1eb2NNLAtW",
    "colab_type": "code",
    "colab": {
     "autoexec": {
      "startup": false,
      "wait_interval": 0.0
     },
     "base_uri": "https://localhost:8080/",
     "height": 105.0
    },
    "outputId": "cfde6a21-f6d7-4bc1-def4-7f7da970dccb",
    "executionInfo": {
     "status": "ok",
     "timestamp": 1.533663342486E12,
     "user_tz": 240.0,
     "elapsed": 412.0,
     "user": {
      "displayName": "Po-Jen Wang",
      "photoUrl": "https://lh3.googleusercontent.com/a/default-user=s128",
      "userId": "115800544068920469721"
     }
    }
   },
   "outputs": [
    {
     "name": "stderr",
     "output_type": "stream",
     "text": [
      "/usr/local/lib/python2.7/dist-packages/ipykernel_launcher.py:3: UserWarning: Update your `Dense` call to the Keras 2 API: `Dense(4, activation=\"sigmoid\", kernel_regularizer=<keras.reg..., input_shape=(2,), kernel_constraint=<__main__....)`\n",
      "  This is separate from the ipykernel package so we can avoid doing imports until\n",
      "/usr/local/lib/python2.7/dist-packages/ipykernel_launcher.py:6: UserWarning: Update your `Dense` call to the Keras 2 API: `Dense(1, kernel_constraint=<__main__....)`\n",
      "  \n"
     ]
    }
   ],
   "source": [
    "# build the model\n",
    "model = Sequential()\n",
    "#model.add(Dense(3, activation='sigmoid',input_shape=(2,), W_constraint = WeightClip(50)))\n",
    "model.add(Dense(4, activation='sigmoid',input_shape=(2,),W_constraint = WeightClip(40),kernel_regularizer=keras.regularizers.l2(0.000000)))\n",
    "#model.add(Dense(5, activation='sigmoid',kernel_initializer='zeros',bias_initializer='zeros',kernel_regularizer=keras.regularizers.l2(0.0001)))\n",
    "#model.add(Dense(5, activation='sigmoid'))\n",
    "model.add(Dense(1,W_constraint = WeightClip(40)))\n",
    "\n",
    "\n",
    "# compile the model\n",
    "model.compile(loss=customlossML(weightloss),\n",
    "              optimizer=rmsprop)"
   ]
  },
  {
   "cell_type": "code",
   "execution_count": 0,
   "metadata": {
    "id": "zidwl3PwDwsx",
    "colab_type": "code",
    "colab": {
     "autoexec": {
      "startup": false,
      "wait_interval": 0.0
     }
    }
   },
   "outputs": [],
   "source": [
    "model.save_weights(\"modelML_5_2d_init.h5\")"
   ]
  },
  {
   "cell_type": "code",
   "execution_count": 0,
   "metadata": {
    "id": "knh8GhW2GV06",
    "colab_type": "code",
    "colab": {
     "autoexec": {
      "startup": false,
      "wait_interval": 0.0
     }
    }
   },
   "outputs": [],
   "source": [
    "model.load_weights(\"modelML_5_2d_init.h5\")"
   ]
  },
  {
   "cell_type": "code",
   "execution_count": 0,
   "metadata": {
    "id": "ZU95VUFNHkCp",
    "colab_type": "code",
    "colab": {
     "autoexec": {
      "startup": false,
      "wait_interval": 0.0
     }
    }
   },
   "outputs": [],
   "source": [
    "upload_file_to_specific_folder('1cInKkYhUABZgHm72qidU3rE6lFca3OJP',\"modelML_5_2d_init.h5\")"
   ]
  },
  {
   "cell_type": "code",
   "execution_count": 0,
   "metadata": {
    "id": "2yp1lGr3_vKY",
    "colab_type": "code",
    "colab": {
     "autoexec": {
      "startup": false,
      "wait_interval": 0.0
     },
     "base_uri": "https://localhost:8080/",
     "height": 54.0
    },
    "outputId": "1e01258e-7598-4fba-93f6-1428c1017147",
    "executionInfo": {
     "status": "ok",
     "timestamp": 1.525539810433E12,
     "user_tz": 240.0,
     "elapsed": 277.0,
     "user": {
      "displayName": "Po-Jen Wang",
      "photoUrl": "https://lh3.googleusercontent.com/a/default-user=s128",
      "userId": "115800544068920469721"
     }
    }
   },
   "outputs": [
    {
     "data": {
      "text/plain": [
       "\"\\n#Visualize network\\n#from keras.utils import plot_model\\n#plot_model(model,to_file='model.png',show_shapes='True')\\nfrom IPython.display import SVG\\nfrom keras.utils.vis_utils import model_to_dot\\n\\nSVG(model_to_dot(model).create(prog='dot', format='svg'))\\n\""
      ]
     },
     "execution_count": 18,
     "metadata": {
      "tags": []
     },
     "output_type": "execute_result"
    }
   ],
   "source": [
    "'''\n",
    "#Visualize network\n",
    "#from keras.utils import plot_model\n",
    "#plot_model(model,to_file='model.png',show_shapes='True')\n",
    "from IPython.display import SVG\n",
    "from keras.utils.vis_utils import model_to_dot\n",
    "\n",
    "SVG(model_to_dot(model).create(prog='dot', format='svg'))\n",
    "'''"
   ]
  },
  {
   "cell_type": "code",
   "execution_count": 0,
   "metadata": {
    "id": "kuwWwHh-YBD_",
    "colab_type": "code",
    "colab": {
     "autoexec": {
      "startup": false,
      "wait_interval": 0.0
     }
    }
   },
   "outputs": [],
   "source": [
    "#load weight and continue training\n",
    "#import h5py\n",
    "\n",
    "#sample1\n",
    "#model.load_weights(\"model_5_2d_R3M.h5\")\n",
    "\n",
    "#sample2\n",
    "#model.load_weights(\"model_5_R2_R500k.h5\")\n",
    "\n",
    "#2d sample\n",
    "#model.load_weights(\"modelML_3_2d_cut4_D1k_600_L2R5_MN0_sigmoid_500k.h5\")\n",
    "model.load_weights(\"modelML_5_2d_init.h5\")"
   ]
  },
  {
   "cell_type": "markdown",
   "metadata": {
    "id": "SCvSihuo3VWT",
    "colab_type": "text"
   },
   "source": [
    "## Train NN"
   ]
  },
  {
   "cell_type": "code",
   "execution_count": 0,
   "metadata": {
    "id": "NnHBrcBDXrxM",
    "colab_type": "code",
    "colab": {
     "autoexec": {
      "startup": false,
      "wait_interval": 0.0
     },
     "base_uri": "https://localhost:8080/",
     "height": 34.0
    },
    "outputId": "caab57a4-06da-4c3d-d219-de3d5764d6ac",
    "executionInfo": {
     "status": "ok",
     "timestamp": 1.528566659504E12,
     "user_tz": 240.0,
     "elapsed": 490.0,
     "user": {
      "displayName": "James Wang",
      "photoUrl": "https://lh3.googleusercontent.com/a/default-user=s128",
      "userId": "113666876107193549672"
     }
    }
   },
   "outputs": [
    {
     "name": "stdout",
     "output_type": "stream",
     "text": [
      "1528566659.1301281\n"
     ]
    }
   ],
   "source": [
    "#import time\n",
    "start = time.time()\n",
    "print(start)"
   ]
  },
  {
   "cell_type": "code",
   "execution_count": 0,
   "metadata": {
    "id": "7aPtPL-NLMX_",
    "colab_type": "code",
    "colab": {
     "autoexec": {
      "startup": false,
      "wait_interval": 0.0
     }
    }
   },
   "outputs": [],
   "source": [
    "#t = time.process_time()\n",
    "model.fit(x_train, y_train,\n",
    "          batch_size=len(x_train),\n",
    "          epochs=100000,\n",
    "          shuffle=False,\n",
    "          verbose=0)\n",
    "\n",
    "filename = 'modelML_3_2d_cut_3_D200k_4k_L20_WC40_sigmoid_400k.h5'\n",
    "#model.save_weights(filename)\n",
    "\n",
    "\n",
    "\n",
    "\n",
    "# 1. Authenticate and create the PyDrive client.\n",
    "#auth.authenticate_user()\n",
    "#gauth = GoogleAuth()\n",
    "#gauth.credentials = GoogleCredentials.get_application_default()\n",
    "#drive = GoogleDrive(gauth)\n",
    "\n",
    "# PyDrive reference:\n",
    "# https://googledrive.github.io/PyDrive/docs/build/html/index.html\n",
    "\n",
    "# 2. Create & upload a file \n",
    "#uploaded = drive.CreateFile({'title': filename})\n",
    "#uploaded.SetContentFile(filename)\n",
    "#uploaded.Upload()\n",
    "#print('Uploaded file with ID {}'.format(uploaded.get('id')))\n",
    "#print(time.process_time() - t)\n",
    "\n",
    "#upload_file_to_specific_folder('1cInKkYhUABZgHm72qidU3rE6lFca3OJP',filename)"
   ]
  },
  {
   "cell_type": "code",
   "execution_count": 0,
   "metadata": {
    "id": "x91E3BvNVERH",
    "colab_type": "code",
    "colab": {
     "autoexec": {
      "startup": false,
      "wait_interval": 0.0
     }
    }
   },
   "outputs": [],
   "source": [
    "filename = 'modelML_3_2d_cut_5_D200k_4k_L2R5E6_MW10_sigmoid_600k.h5'\n",
    "model.save_weights(filename)\n",
    "upload_file_to_specific_folder('1cInKkYhUABZgHm72qidU3rE6lFca3OJP',filename)\n",
    "\n"
   ]
  },
  {
   "cell_type": "code",
   "execution_count": 0,
   "metadata": {
    "id": "qqThLO3qGDQd",
    "colab_type": "code",
    "colab": {
     "autoexec": {
      "startup": false,
      "wait_interval": 0.0
     }
    }
   },
   "outputs": [],
   "source": [
    "def t_vs_run(drun,ite):\n",
    "    t_v_array=[]\n",
    "    i=0;\n",
    "    while i < ite:\n",
    "      model.fit(x_train, y_train,\n",
    "          batch_size=len(x_train),\n",
    "          epochs=drun,\n",
    "          shuffle=False,\n",
    "          verbose=0);\n",
    "      #tary = 2*(model.predict(np.column_stack((bsm_cut,anglesBSM_c)))).flatten();\n",
    "      tary = -2*(model.evaluate(x=x_train,y=y_train,batch_size=len(x_train))).flatten();\n",
    "      t_v_array = np.append(t_v_array,np.sum(tary));\n",
    "      i +=1\n",
    "      \n",
    "    return t_v_array"
   ]
  },
  {
   "cell_type": "code",
   "execution_count": 38,
   "metadata": {
    "id": "mEeItC6hHLJk",
    "colab_type": "code",
    "colab": {
     "autoexec": {
      "startup": false,
      "wait_interval": 0.0
     },
     "base_uri": "https://localhost:8080/",
     "height": 816.0
    },
    "outputId": "a40f829e-db05-439c-a356-d11b20dd8608",
    "executionInfo": {
     "status": "ok",
     "timestamp": 1.5336656518E12,
     "user_tz": 240.0,
     "elapsed": 2238228.0,
     "user": {
      "displayName": "Po-Jen Wang",
      "photoUrl": "https://lh3.googleusercontent.com/a/default-user=s128",
      "userId": "115800544068920469721"
     }
    }
   },
   "outputs": [
    {
     "name": "stdout",
     "output_type": "stream",
     "text": [
      "9020/9020 [==============================] - 0s 3us/step\n",
      "9020/9020 [==============================] - 0s 0us/step\n",
      "9020/9020 [==============================] - 0s 0us/step\n",
      "9020/9020 [==============================] - 0s 0us/step\n",
      "9020/9020 [==============================] - 0s 0us/step\n",
      "9020/9020 [==============================] - 0s 0us/step\n",
      "9020/9020 [==============================] - 0s 0us/step\n",
      "9020/9020 [==============================] - 0s 0us/step\n",
      "9020/9020 [==============================] - 0s 0us/step\n",
      "9020/9020 [==============================] - 0s 0us/step\n",
      "9020/9020 [==============================] - 0s 0us/step\n",
      "9020/9020 [==============================] - 0s 0us/step\n",
      "9020/9020 [==============================] - 0s 0us/step\n",
      "9020/9020 [==============================] - 0s 0us/step\n",
      "9020/9020 [==============================] - 0s 0us/step\n",
      "9020/9020 [==============================] - 0s 0us/step\n",
      "9020/9020 [==============================] - 0s 0us/step\n",
      "9020/9020 [==============================] - 0s 0us/step\n",
      "9020/9020 [==============================] - 0s 0us/step\n",
      "9020/9020 [==============================] - 0s 0us/step\n",
      "9020/9020 [==============================] - 0s 0us/step\n",
      "9020/9020 [==============================] - 0s 0us/step\n",
      "9020/9020 [==============================] - 0s 0us/step\n",
      "9020/9020 [==============================] - 0s 0us/step\n",
      "9020/9020 [==============================] - 0s 0us/step\n",
      "9020/9020 [==============================] - 0s 1us/step\n",
      "9020/9020 [==============================] - 0s 0us/step\n",
      "9020/9020 [==============================] - 0s 0us/step\n",
      "9020/9020 [==============================] - 0s 0us/step\n",
      "9020/9020 [==============================] - 0s 0us/step\n",
      "9020/9020 [==============================] - 0s 0us/step\n",
      "9020/9020 [==============================] - 0s 0us/step\n",
      "9020/9020 [==============================] - 0s 0us/step\n",
      "9020/9020 [==============================] - 0s 0us/step\n",
      "9020/9020 [==============================] - 0s 0us/step\n",
      "9020/9020 [==============================] - 0s 0us/step\n",
      "9020/9020 [==============================] - 0s 0us/step\n",
      "9020/9020 [==============================] - 0s 0us/step\n",
      "9020/9020 [==============================] - 0s 0us/step\n",
      "9020/9020 [==============================] - 0s 0us/step\n",
      "[30.38273621 34.19232178 35.18323135 36.4687767  38.09618759 38.44382095\n",
      " 39.276474   42.78272247 49.81233978 55.25823975 58.89506531 61.5598259\n",
      " 62.08898163 62.39019394 62.57595444 62.70294571 62.79750443 62.87249756\n",
      " 62.93447876 62.98703003 63.0326767  63.07297134 63.10890961 63.14099884\n",
      " 63.17026138 63.19692993 63.2214241  63.2440834  63.26498032 63.28439713\n",
      " 63.30236816 63.31945801 63.3355751  63.35067368 63.36481476 63.37815857\n",
      " 63.39094925 63.40304947 63.41448212 63.42574692]\n"
     ]
    }
   ],
   "source": [
    "#R14\n",
    "#t = time.process_time()\n",
    "ta = t_vs_run(10000,40)\n",
    "#print(time.process_time() - t)\n",
    "\n",
    "print(ta)"
   ]
  },
  {
   "cell_type": "code",
   "execution_count": 54,
   "metadata": {
    "id": "GrFW8GdscfAz",
    "colab_type": "code",
    "colab": {
     "autoexec": {
      "startup": false,
      "wait_interval": 0.0
     },
     "base_uri": "https://localhost:8080/",
     "height": 85.0
    },
    "outputId": "e645bebf-55d9-4bfe-decf-6f465047544f",
    "executionInfo": {
     "status": "ok",
     "timestamp": 1.530028411088E12,
     "user_tz": -120.0,
     "elapsed": 1821876.0,
     "user": {
      "displayName": "Po-Jen Wang",
      "photoUrl": "https://lh3.googleusercontent.com/a/default-user=s128",
      "userId": "115800544068920469721"
     }
    }
   },
   "outputs": [
    {
     "name": "stdout",
     "output_type": "stream",
     "text": [
      "[33.92733002 33.93665314 33.93677902 33.93473053 33.94326019 33.94524384\n",
      " 33.94934845 33.95293427 33.95606613 33.96080017 33.96265411 33.9667511\n",
      " 33.96947098 33.97434998 33.97666931 33.97732925 33.98101807 33.98600769\n",
      " 33.98844147 33.99259186]\n"
     ]
    }
   ],
   "source": [
    "#R16 R2 clip 40\n",
    "ta = t_vs_run(10000,20)\n",
    "\n",
    "print(ta)"
   ]
  },
  {
   "cell_type": "code",
   "execution_count": 0,
   "metadata": {
    "id": "97-67hxxszmo",
    "colab_type": "code",
    "colab": {
     "autoexec": {
      "startup": false,
      "wait_interval": 0.0
     }
    }
   },
   "outputs": [],
   "source": [
    "ta = t_vs_run(10000,50)\n",
    "\n",
    "print(ta)"
   ]
  },
  {
   "cell_type": "code",
   "execution_count": 0,
   "metadata": {
    "id": "t62ksSo_185E",
    "colab_type": "code",
    "colab": {
     "autoexec": {
      "startup": false,
      "wait_interval": 0.0
     },
     "base_uri": "https://localhost:8080/",
     "height": 442.0
    },
    "outputId": "cb4306b8-f6c8-4980-aa7f-dea9efc01a41",
    "executionInfo": {
     "status": "ok",
     "timestamp": 1.52900575316E12,
     "user_tz": 240.0,
     "elapsed": 253.0,
     "user": {
      "displayName": "James Wang",
      "photoUrl": "https://lh3.googleusercontent.com/a/default-user=s128",
      "userId": "113666876107193549672"
     }
    }
   },
   "outputs": [
    {
     "name": "stdout",
     "output_type": "stream",
     "text": [
      "seaborn-poster\n",
      "seaborn\n",
      "bmh\n",
      "classic\n",
      "seaborn-dark-palette\n",
      "fast\n",
      "dark_background\n",
      "seaborn-white\n",
      "_classic_test\n",
      "seaborn-whitegrid\n",
      "seaborn-deep\n",
      "seaborn-dark\n",
      "seaborn-muted\n",
      "seaborn-paper\n",
      "seaborn-notebook\n",
      "Solarize_Light2\n",
      "grayscale\n",
      "fivethirtyeight\n",
      "seaborn-ticks\n",
      "seaborn-darkgrid\n",
      "seaborn-bright\n",
      "seaborn-pastel\n",
      "ggplot\n",
      "seaborn-talk\n",
      "seaborn-colorblind\n"
     ]
    }
   ],
   "source": [
    "for style in plt.style.available:\n",
    "  print(style)"
   ]
  },
  {
   "cell_type": "code",
   "execution_count": 39,
   "metadata": {
    "id": "OKRE6lZAWRwV",
    "colab_type": "code",
    "colab": {
     "autoexec": {
      "startup": false,
      "wait_interval": 0.0
     },
     "base_uri": "https://localhost:8080/",
     "height": 323.0
    },
    "outputId": "3417bf11-f0c4-43bc-bd7c-70642719067c",
    "executionInfo": {
     "status": "ok",
     "timestamp": 1.533665775889E12,
     "user_tz": 240.0,
     "elapsed": 623.0,
     "user": {
      "displayName": "Po-Jen Wang",
      "photoUrl": "https://lh3.googleusercontent.com/a/default-user=s128",
      "userId": "115800544068920469721"
     }
    }
   },
   "outputs": [
    {
     "data": {
      "text/plain": [
       "Text(0.5,1,u'SM: 200k, BSM: 4020, x>0.5 ')"
      ]
     },
     "execution_count": 39,
     "metadata": {
      "tags": []
     },
     "output_type": "execute_result"
    },
    {
     "data": {
      "image/png": "[encoded data removed]",
      "text/plain": [
       "<matplotlib.figure.Figure at 0x7f99a6315c90>"
      ]
     },
     "metadata": {
      "tags": []
     },
     "output_type": "display_data"
    }
   ],
   "source": [
    "plt.style.use('bmh')\n",
    "\n",
    "\n",
    "fig, ax = plt.subplots()\n",
    "ax.plot(range(1,len(ta)+1),ta)\n",
    "#ax.plot(xinput,ypred,'.')\n",
    "#ax.hist(bsm_sample, bins=25)\n",
    "ax.set_xlabel('x 10k runs',size=15)\n",
    "ax.set_ylabel('t (D)',size=15)\n",
    "ax.spines['bottom'].set_linewidth(1.)\n",
    "ax.spines['left'].set_linewidth(1.)\n",
    "#ax.spines['bottom'].set_visible(True)\n",
    "#ax.spines['left'].set_visible(True)\n",
    "for tick in ax.xaxis.get_major_ticks():\n",
    "    tick.label.set_fontsize(14)\n",
    "    \n",
    "for tick in ax.yaxis.get_major_ticks():\n",
    "    tick.label.set_fontsize(14)\n",
    "    \n",
    "plt.title(\"SM: 200k, BSM: 4020, x>0.5 \", size=18)\n"
   ]
  },
  {
   "cell_type": "code",
   "execution_count": 30,
   "metadata": {
    "id": "X86IAOZbsKcx",
    "colab_type": "code",
    "colab": {
     "autoexec": {
      "startup": false,
      "wait_interval": 0.0
     },
     "base_uri": "https://localhost:8080/",
     "height": 170.0
    },
    "outputId": "b40f2474-5517-4ca7-8c32-2b6d2d3171bd",
    "executionInfo": {
     "status": "ok",
     "timestamp": 1.533604535446E12,
     "user_tz": 240.0,
     "elapsed": 394.0,
     "user": {
      "displayName": "Po-Jen Wang",
      "photoUrl": "https://lh3.googleusercontent.com/a/default-user=s128",
      "userId": "115800544068920469721"
     }
    }
   },
   "outputs": [
    {
     "name": "stdout",
     "output_type": "stream",
     "text": [
      "/content\n",
      "datalab\n",
      ".cache\n",
      ".ipython\n",
      ".nv\n",
      ".forever\n",
      ".config\n",
      ".keras\n",
      ".local\n"
     ]
    }
   ],
   "source": [
    " print(os.getcwd())\n",
    "dirs=os.listdir('/content')\n",
    "for f in dirs:\n",
    "  print(f)"
   ]
  },
  {
   "cell_type": "markdown",
   "metadata": {
    "id": "WyFemNnoFi0u",
    "colab_type": "text"
   },
   "source": [
    "## two branch architechture"
   ]
  },
  {
   "cell_type": "code",
   "execution_count": 0,
   "metadata": {
    "id": "e2id3mlTmVD4",
    "colab_type": "code",
    "colab": {
     "autoexec": {
      "startup": false,
      "wait_interval": 0.0
     }
    }
   },
   "outputs": [],
   "source": [
    "#load sample\n",
    "\n",
    "samples=np.load('Samples3k_500.npz');"
   ]
  },
  {
   "cell_type": "code",
   "execution_count": 75,
   "metadata": {
    "id": "qCXXrSM4F1j-",
    "colab_type": "code",
    "colab": {
     "autoexec": {
      "startup": false,
      "wait_interval": 0.0
     },
     "base_uri": "https://localhost:8080/",
     "height": 211.0
    },
    "outputId": "3f60764d-2490-40cf-eda7-7c177a3c0b35",
    "executionInfo": {
     "status": "ok",
     "timestamp": 1.533409766723E12,
     "user_tz": 240.0,
     "elapsed": 1012.0,
     "user": {
      "displayName": "Po-Jen Wang",
      "photoUrl": "https://lh3.googleusercontent.com/a/default-user=s128",
      "userId": "115800544068920469721"
     }
    }
   },
   "outputs": [
    {
     "name": "stderr",
     "output_type": "stream",
     "text": [
      "/usr/local/lib/python3.6/dist-packages/ipykernel_launcher.py:2: UserWarning: Update your `Dense` call to the Keras 2 API: `Dense(4, activation=\"sigmoid\", input_dim=1, kernel_constraint=<__main__...., bias_constraint=<__main__....)`\n",
      "  \n",
      "/usr/local/lib/python3.6/dist-packages/ipykernel_launcher.py:6: UserWarning: Update your `Dense` call to the Keras 2 API: `Dense(4, activation=\"sigmoid\", input_dim=1, kernel_constraint=<__main__...., bias_constraint=<__main__....)`\n",
      "  \n",
      "/usr/local/lib/python3.6/dist-packages/ipykernel_launcher.py:9: UserWarning: The `Merge` layer is deprecated and will be removed after 08/2017. Use instead layers from `keras.layers.merge`, e.g. `add`, `concatenate`, etc.\n",
      "  if __name__ == '__main__':\n",
      "/usr/local/lib/python3.6/dist-packages/ipykernel_launcher.py:13: UserWarning: Update your `Dense` call to the Keras 2 API: `Dense(3, activation=\"sigmoid\", kernel_constraint=<__main__....)`\n",
      "  del sys.path[0]\n",
      "/usr/local/lib/python3.6/dist-packages/ipykernel_launcher.py:14: UserWarning: Update your `Dense` call to the Keras 2 API: `Dense(1, kernel_constraint=<__main__...., bias_constraint=<__main__....)`\n",
      "  \n"
     ]
    }
   ],
   "source": [
    "pt_branch = Sequential()\n",
    "pt_branch.add(Dense(4, activation='sigmoid',input_dim=1,W_constraint = WeightClip(40),b_constraint = WeightClip(40)))\n",
    "#pt_branch.add(Dense(3, activation='sigmoid'))\n",
    "\n",
    "angle_branch = Sequential()\n",
    "angle_branch.add(Dense(4, activation='sigmoid',input_dim=1,W_constraint = WeightClip(40),b_constraint = WeightClip(40)))\n",
    "#angle_branch.add(Dense(3, activation='sigmoid'))\n",
    "\n",
    "merged = Merge([pt_branch, angle_branch], mode='concat')\n",
    "\n",
    "model2b = Sequential()\n",
    "model2b.add(merged)\n",
    "model2b.add(Dense(3, activation='sigmoid',W_constraint = WeightClip(40)))\n",
    "model2b.add(Dense(1,W_constraint = WeightClip(40),b_constraint = WeightClip(40)))\n",
    "\n",
    "model2b.compile(loss=customlossML(weightloss),\n",
    "              optimizer=rmsprop)"
   ]
  },
  {
   "cell_type": "code",
   "execution_count": 0,
   "metadata": {
    "id": "J4SjDwI4FSns",
    "colab_type": "code",
    "colab": {
     "autoexec": {
      "startup": false,
      "wait_interval": 0.0
     }
    }
   },
   "outputs": [],
   "source": [
    "model2b.load_weights(\"model2b_5_cut5_2d_R3M.h5\")"
   ]
  },
  {
   "cell_type": "code",
   "execution_count": 0,
   "metadata": {
    "id": "ImWoqA2433Hj",
    "colab_type": "code",
    "colab": {
     "autoexec": {
      "startup": false,
      "wait_interval": 0.0
     },
     "base_uri": "https://localhost:8080/",
     "height": 34.0
    },
    "outputId": "867342a9-51d0-418e-ffed-844be582d23d",
    "executionInfo": {
     "status": "ok",
     "timestamp": 1.526151810463E12,
     "user_tz": 240.0,
     "elapsed": 219.0,
     "user": {
      "displayName": "Po-Jen Wang",
      "photoUrl": "https://lh3.googleusercontent.com/a/default-user=s128",
      "userId": "115800544068920469721"
     }
    }
   },
   "outputs": [
    {
     "name": "stdout",
     "output_type": "stream",
     "text": [
      "1526151810.3777657\n"
     ]
    }
   ],
   "source": [
    "import time\n",
    "start = time.time()\n",
    "print(start)"
   ]
  },
  {
   "cell_type": "code",
   "execution_count": 76,
   "metadata": {
    "id": "d4jAsmgqKxnR",
    "colab_type": "code",
    "colab": {
     "autoexec": {
      "startup": false,
      "wait_interval": 0.0
     },
     "base_uri": "https://localhost:8080/",
     "height": 55.0
    },
    "outputId": "6ce9363b-38ad-407d-ea84-20f2a991685f",
    "executionInfo": {
     "status": "ok",
     "timestamp": 1.53341059972E12,
     "user_tz": 240.0,
     "elapsed": 828293.0,
     "user": {
      "displayName": "Po-Jen Wang",
      "photoUrl": "https://lh3.googleusercontent.com/a/default-user=s128",
      "userId": "115800544068920469721"
     }
    }
   },
   "outputs": [
    {
     "data": {
      "text/plain": [
       "'\\n#from google.colab import files\\n#files.download(\"/content/model1.json\")\\n#files.download(\"/content/model_5_3_S1500_1000.h5\")\\n#from pydrive.auth import GoogleAuth\\n#from pydrive.drive import GoogleDrive\\n#from google.colab import auth\\n#from oauth2client.client import GoogleCredentials\\n\\n# 1. Authenticate and create the PyDrive client.\\nauth.authenticate_user()\\ngauth = GoogleAuth()\\ngauth.credentials = GoogleCredentials.get_application_default()\\ndrive = GoogleDrive(gauth)\\n\\n# PyDrive reference:\\n# https://googledrive.github.io/PyDrive/docs/build/html/index.html\\n\\n# 2. Create & upload a file \\nuploaded = drive.CreateFile({\\'title\\': filename})\\nuploaded.SetContentFile(filename)\\nuploaded.Upload()\\nprint(\\'Uploaded file with ID {}\\'.format(uploaded.get(\\'id\\')))\\nprint(time.process_time() - t)\\n'"
      ]
     },
     "execution_count": 76,
     "metadata": {
      "tags": []
     },
     "output_type": "execute_result"
    }
   ],
   "source": [
    "t = time.process_time()\n",
    "model2b.fit([xmass,xangle], y_train,\n",
    "          batch_size=len(y_train),\n",
    "          epochs=100000,\n",
    "          shuffle=False,\n",
    "          verbose=0)\n",
    "\n",
    "filename = 'model2b_5_cut6_2d_S200_200_R100k.h5'\n",
    "#model2b.save_weights(filename)\n",
    "'''\n",
    "#from google.colab import files\n",
    "#files.download(\"/content/model1.json\")\n",
    "#files.download(\"/content/model_5_3_S1500_1000.h5\")\n",
    "#from pydrive.auth import GoogleAuth\n",
    "#from pydrive.drive import GoogleDrive\n",
    "#from google.colab import auth\n",
    "#from oauth2client.client import GoogleCredentials\n",
    "\n",
    "# 1. Authenticate and create the PyDrive client.\n",
    "auth.authenticate_user()\n",
    "gauth = GoogleAuth()\n",
    "gauth.credentials = GoogleCredentials.get_application_default()\n",
    "drive = GoogleDrive(gauth)\n",
    "\n",
    "# PyDrive reference:\n",
    "# https://googledrive.github.io/PyDrive/docs/build/html/index.html\n",
    "\n",
    "# 2. Create & upload a file \n",
    "uploaded = drive.CreateFile({'title': filename})\n",
    "uploaded.SetContentFile(filename)\n",
    "uploaded.Upload()\n",
    "print('Uploaded file with ID {}'.format(uploaded.get('id')))\n",
    "print(time.process_time() - t)\n",
    "'''"
   ]
  },
  {
   "cell_type": "code",
   "execution_count": 60,
   "metadata": {
    "id": "2drvTBAqCNcq",
    "colab_type": "code",
    "colab": {
     "autoexec": {
      "startup": false,
      "wait_interval": 0.0
     },
     "base_uri": "https://localhost:8080/",
     "height": 35.0
    },
    "outputId": "0b0af231-3962-4bf9-a6d5-f77a289eed8e",
    "executionInfo": {
     "status": "ok",
     "timestamp": 1.533404596125E12,
     "user_tz": 240.0,
     "elapsed": 878.0,
     "user": {
      "displayName": "Po-Jen Wang",
      "photoUrl": "https://lh3.googleusercontent.com/a/default-user=s128",
      "userId": "115800544068920469721"
     }
    }
   },
   "outputs": [
    {
     "name": "stdout",
     "output_type": "stream",
     "text": [
      "[]\n"
     ]
    }
   ],
   "source": [
    "weightBrA = model2b.layers[0].get_weights()\n",
    "\n",
    "print(weightBrA)"
   ]
  },
  {
   "cell_type": "code",
   "execution_count": 0,
   "metadata": {
    "id": "zC6IGOwfLTxy",
    "colab_type": "code",
    "colab": {
     "autoexec": {
      "startup": false,
      "wait_interval": 0.0
     },
     "base_uri": "https://localhost:8080/",
     "height": 71.0
    },
    "outputId": "f1a245ea-d206-4572-c32b-0b5bf52e285d",
    "executionInfo": {
     "status": "ok",
     "timestamp": 1.524278450533E12,
     "user_tz": 240.0,
     "elapsed": 252.0,
     "user": {
      "displayName": "Po-Jen Wang",
      "photoUrl": "https://lh3.googleusercontent.com/a/default-user=s128",
      "userId": "115800544068920469721"
     }
    }
   },
   "outputs": [
    {
     "name": "stdout",
     "output_type": "stream",
     "text": [
      "/content\n",
      "['datalab', 'model_5_2d_R550k.h5', '.config', 'model_5_cut5_inti0_2d_R6M.h5', '.local', 'model_5_cut5_2d_R2M.h5', 'model_5_3_2d_R1M.h5', '.keras', '.forever', 'model_5_2d_D3_1p5k_R2000k.h5', '.rnd', '.cache', 'model2b_5_cut5_2d_R2M.h5', 'model_5_2d_D2_1k_R500k.h5', 'model_5_2d_D3_1p5k_R3000k.h5', 'model_5_2d_R1550k.h5', 'model_5_2d_R1050k.h5', 'model_5_2d_R3M.h5', '.ipython', 'Samples3k_500.npz']\n"
     ]
    }
   ],
   "source": [
    "print(os.getcwd())\n",
    "print(os.listdir('/content'))"
   ]
  },
  {
   "cell_type": "code",
   "execution_count": 0,
   "metadata": {
    "id": "f0SCgHAP2TjR",
    "colab_type": "code",
    "colab": {
     "autoexec": {
      "startup": false,
      "wait_interval": 0.0
     }
    }
   },
   "outputs": [],
   "source": [
    "#load weight and continue training\n",
    "model2b.load_weights('model2b_5_2d_R200k.h5')"
   ]
  },
  {
   "cell_type": "markdown",
   "metadata": {
    "id": "wqEZGpUEF9iI",
    "colab_type": "text"
   },
   "source": [
    "# Save and Continue training"
   ]
  },
  {
   "cell_type": "code",
   "execution_count": 0,
   "metadata": {
    "id": "xmNBVN8xTqCT",
    "colab_type": "code",
    "colab": {
     "autoexec": {
      "startup": false,
      "wait_interval": 0.0
     }
    }
   },
   "outputs": [],
   "source": [
    "#load weight and continue training\n",
    "model.load_weights(\"model_5_3.h5\")"
   ]
  },
  {
   "cell_type": "code",
   "execution_count": 0,
   "metadata": {
    "id": "YMgAkhOpT88T",
    "colab_type": "code",
    "colab": {
     "autoexec": {
      "startup": false,
      "wait_interval": 0.0
     }
    }
   },
   "outputs": [],
   "source": [
    "model.fit(x_train, y_train,\n",
    "          batch_size=batch_size,\n",
    "          epochs=2000,\n",
    "          verbose=0)"
   ]
  },
  {
   "cell_type": "code",
   "execution_count": 0,
   "metadata": {
    "id": "CsUFT0v46Oeh",
    "colab_type": "code",
    "colab": {
     "autoexec": {
      "startup": false,
      "wait_interval": 0.0
     }
    }
   },
   "outputs": [],
   "source": [
    "#Save weight\n",
    "model_json = model.to_json()\n",
    "with open(\"model1.json\",\"w\") as json_file:\n",
    "  json_file.write(model_json)"
   ]
  },
  {
   "cell_type": "code",
   "execution_count": 0,
   "metadata": {
    "id": "SgYVHI-9Jtge",
    "colab_type": "code",
    "colab": {
     "autoexec": {
      "startup": false,
      "wait_interval": 0.0
     },
     "base_uri": "https://localhost:8080/",
     "height": 34.0
    },
    "outputId": "f99231d2-5648-4b2a-d5be-5cb95c09a77a",
    "executionInfo": {
     "status": "ok",
     "timestamp": 1.522209928559E12,
     "user_tz": 240.0,
     "elapsed": 258.0,
     "user": {
      "displayName": "James Wang",
      "photoUrl": "https://lh3.googleusercontent.com/a/default-user=s128",
      "userId": "104256054024154303645"
     }
    }
   },
   "outputs": [
    {
     "name": "stdout",
     "output_type": "stream",
     "text": [
      "Save model to disk\n"
     ]
    }
   ],
   "source": [
    "#Save weight to HDF5\n",
    "model.save_weights(\"model2.h5\")\n",
    "print(\"Save model to disk\")"
   ]
  },
  {
   "cell_type": "code",
   "execution_count": 0,
   "metadata": {
    "id": "cA8Mrr3USMA8",
    "colab_type": "code",
    "colab": {
     "autoexec": {
      "startup": false,
      "wait_interval": 0.0
     },
     "base_uri": "https://localhost:8080/",
     "height": 72.0
    },
    "outputId": "63b3290a-a6ae-4924-a401-b3aea18e3d89",
    "executionInfo": {
     "status": "ok",
     "timestamp": 1.523810249007E12,
     "user_tz": 240.0,
     "elapsed": 440.0,
     "user": {
      "displayName": "Po-Jen Wang",
      "photoUrl": "https://lh3.googleusercontent.com/a/default-user=s128",
      "userId": "115800544068920469721"
     }
    }
   },
   "outputs": [
    {
     "name": "stdout",
     "output_type": "stream",
     "text": [
      "/content\n",
      "['datalab', '.forever', 'model_5_InitZero_2d_R4M_sagl.h5', 'model_5_2d_R1050k.h5', '.cache', 'model2b_5_2d_R200k.h5', '.config', 'model2b_5_2d_R1M.h5', 'model_5_3_2d_R1M.h5', 'model_5_2d_R3M.h5', '.nv', '.keras', '.rnd', 'model2b_5_cut_2d_R1M.h5', 'model_5_2d_R550k.h5', 'model_5_2d_R1550k.h5', '.local', '.ipython']\n"
     ]
    }
   ],
   "source": [
    "print(os.getcwd())\n",
    "print(os.listdir('/content'))"
   ]
  },
  {
   "cell_type": "code",
   "execution_count": 0,
   "metadata": {
    "id": "I0afNWLgSfvF",
    "colab_type": "code",
    "colab": {
     "autoexec": {
      "startup": false,
      "wait_interval": 0.0
     }
    }
   },
   "outputs": [],
   "source": [
    "#download weight\n",
    "from google.colab import files\n",
    "files.download(\"/content/model1.json\")\n",
    "files.download(\"/content/model1.h5\")"
   ]
  },
  {
   "cell_type": "code",
   "execution_count": 0,
   "metadata": {
    "id": "fWg72g71VgjS",
    "colab_type": "code",
    "colab": {
     "autoexec": {
      "startup": false,
      "wait_interval": 0.0
     },
     "resources": {
      "http://localhost:8080/nbextensions/google.colab/files.js": {
       "data": "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",
       "ok": true,
       "headers": [
        [
         "content-type",
         "application/javascript"
        ]
       ],
       "status": 200.0,
       "status_text": "OK"
      }
     },
     "base_uri": "https://localhost:8080/",
     "height": 49.0
    },
    "outputId": "2f15f87b-acb8-44ff-95ef-1402dc537961",
    "executionInfo": {
     "status": "ok",
     "timestamp": 1.522350382871E12,
     "user_tz": 240.0,
     "elapsed": 4420.0,
     "user": {
      "displayName": "James Wang",
      "photoUrl": "https://lh3.googleusercontent.com/a/default-user=s128",
      "userId": "104256054024154303645"
     }
    }
   },
   "outputs": [
    {
     "data": {
      "text/html": [
       "\n",
       "     <input type=\"file\" id=\"files-13e6a832-1294-4759-b5b9-d9723b2e1524\" name=\"files[]\" multiple disabled />\n",
       "     <output id=\"result-13e6a832-1294-4759-b5b9-d9723b2e1524\">\n",
       "      Upload widget is only available when the cell has been executed in the\n",
       "      current browser session. Please rerun this cell to enable.\n",
       "      </output>\n",
       "      <script src=\"/nbextensions/google.colab/files.js\"></script> "
      ],
      "text/plain": [
       "<IPython.core.display.HTML object>"
      ]
     },
     "metadata": {
      "tags": []
     },
     "output_type": "execute_result"
    }
   ],
   "source": [
    "#upload saved data\n",
    "from google.colab import files\n",
    "uploaded = files.upload()\n",
    "\n",
    "for fn in uploaded.keys():\n",
    "  print('User uploaded file \"{name}\" with length {length} bytes'.format(\n",
    "      name=fn, length=len(uploaded[fn])))"
   ]
  },
  {
   "cell_type": "markdown",
   "metadata": {
    "id": "r7vzi921GIRD",
    "colab_type": "text"
   },
   "source": [
    "# Export NN function and Plot Result"
   ]
  },
  {
   "cell_type": "code",
   "execution_count": 0,
   "metadata": {
    "id": "38pym4xPw2yq",
    "colab_type": "code",
    "colab": {
     "autoexec": {
      "startup": false,
      "wait_interval": 0.0
     }
    }
   },
   "outputs": [],
   "source": [
    "def BSM2d(x,y):\n",
    "  return BSMn(x)*(1*cos(y))\n",
    "\n",
    "def SM2d(x,y):\n",
    "  return SMn(x)*(1*cos(y))\n",
    "\n",
    "def BSM2d_c(x,y,cutv):\n",
    "  norm1 = integrate.quad(lambda a :BSMn(a),cutv,1)\n",
    "  return BSMn(x)/norm1[0]*anglen(y)\n",
    "\n",
    "def SM2d_c(x,y,cutv):\n",
    "  norm2 = integrate.quad(lambda a :SMn(a),cutv,1)\n",
    "  return SMn(x)/norm2[0]*anglen(y)"
   ]
  },
  {
   "cell_type": "code",
   "execution_count": 0,
   "metadata": {
    "id": "JDZUqNfh2taq",
    "colab_type": "code",
    "colab": {
     "autoexec": {
      "startup": false,
      "wait_interval": 0.0
     }
    }
   },
   "outputs": [],
   "source": [
    "model.load_weights(\"modelML_3_2d_cut_5_D200k_4k_L2R5E6_MW10_sigmoid_600k.h5\")"
   ]
  },
  {
   "cell_type": "code",
   "execution_count": 0,
   "metadata": {
    "id": "IoImT4HHOdYF",
    "colab_type": "code",
    "colab": {
     "autoexec": {
      "startup": false,
      "wait_interval": 0.0
     }
    }
   },
   "outputs": [],
   "source": [
    "x = np.arange(0.5,1,0.01)\n",
    "#y = np.arange(-pi,pi,0.01)\n",
    "y = np.arange(-pi/2,pi/2,0.025)\n",
    "\n",
    "tseq = []\n",
    "for j in y:\n",
    "  for i in x:\n",
    "    tseq = np.append(tseq,exp(model.predict(np.asarray([[i,j]])))*SM2d_c(i,j,0.5))\n",
    "    #tseq = np.append(tseq,exp(model2b.predict([np.asarray([[i]]),np.asarray([[j]])]))*SM2d_c(i,j,0.5))\n",
    "    \n",
    "    \n",
    "    \n",
    "tseqr = np.reshape(tseq,(len(y),len(x)))"
   ]
  },
  {
   "cell_type": "markdown",
   "metadata": {
    "id": "bW1q81ZlguoM",
    "colab_type": "text"
   },
   "source": [
    "###print weight"
   ]
  },
  {
   "cell_type": "code",
   "execution_count": 46,
   "metadata": {
    "id": "qm_EkauCBMP1",
    "colab_type": "code",
    "colab": {
     "autoexec": {
      "startup": false,
      "wait_interval": 0.0
     },
     "base_uri": "https://localhost:8080/",
     "height": 69.0
    },
    "outputId": "c7b51c70-742c-47af-f8e5-3944a19443ad",
    "executionInfo": {
     "status": "ok",
     "timestamp": 1.533400747467E12,
     "user_tz": 240.0,
     "elapsed": 383.0,
     "user": {
      "displayName": "Po-Jen Wang",
      "photoUrl": "https://lh3.googleusercontent.com/a/default-user=s128",
      "userId": "115800544068920469721"
     }
    }
   },
   "outputs": [
    {
     "name": "stdout",
     "output_type": "stream",
     "text": [
      "[array([[  0.30089578,  -0.09148896,   0.09149009,  -0.30089572],\n",
      "       [-40.        ,  40.        , -40.        ,  40.        ]],\n",
      "      dtype=float32), array([-65.18095, -65.13434,  65.13434,  65.18095], dtype=float32)]\n"
     ]
    }
   ],
   "source": [
    "weightL1 = model.layers[0].get_weights()\n",
    "\n",
    "print(weightL1)"
   ]
  },
  {
   "cell_type": "code",
   "execution_count": 0,
   "metadata": {
    "id": "Jy1W5ynbzOVq",
    "colab_type": "code",
    "colab": {
     "autoexec": {
      "startup": false,
      "wait_interval": 0.0
     },
     "base_uri": "https://localhost:8080/",
     "height": 68.0
    },
    "outputId": "6dbe1a69-e15c-44d6-e743-4d4e403200a8",
    "executionInfo": {
     "status": "ok",
     "timestamp": 1.528574824887E12,
     "user_tz": 240.0,
     "elapsed": 830.0,
     "user": {
      "displayName": "James Wang",
      "photoUrl": "https://lh3.googleusercontent.com/a/default-user=s128",
      "userId": "113666876107193549672"
     }
    }
   },
   "outputs": [
    {
     "name": "stdout",
     "output_type": "stream",
     "text": [
      "[array([[ 85.26478 ],\n",
      "       [-48.157024],\n",
      "       [-44.555298]], dtype=float32), array([20.561792], dtype=float32)]\n"
     ]
    }
   ],
   "source": [
    "weightL2 = model.layers[1].get_weights()\n",
    "\n",
    "print(weightL2)"
   ]
  },
  {
   "cell_type": "code",
   "execution_count": 0,
   "metadata": {
    "id": "AWXsgY6h0JsC",
    "colab_type": "code",
    "colab": {
     "autoexec": {
      "startup": false,
      "wait_interval": 0.0
     }
    }
   },
   "outputs": [],
   "source": [
    "weightL3 = model.layers[2].get_weights()\n",
    "\n",
    "print(weightL3)"
   ]
  },
  {
   "cell_type": "code",
   "execution_count": 32,
   "metadata": {
    "id": "fdtw9uPcrFCO",
    "colab_type": "code",
    "colab": {
     "autoexec": {
      "startup": false,
      "wait_interval": 0.0
     },
     "base_uri": "https://localhost:8080/",
     "height": 971.0
    },
    "outputId": "8b06ceac-877d-49aa-b50f-0313895cf999",
    "executionInfo": {
     "status": "ok",
     "timestamp": 1.533663062813E12,
     "user_tz": 240.0,
     "elapsed": 6516.0,
     "user": {
      "displayName": "Po-Jen Wang",
      "photoUrl": "https://lh3.googleusercontent.com/a/default-user=s128",
      "userId": "115800544068920469721"
     }
    }
   },
   "outputs": [
    {
     "data": {
      "text/plain": [
       "Text(0.5,0.98,u'SM: 200k, BSM: 4020, 600k Rounds \\n Arch: 1 layer 3 neurons, sigmoid activation, L2 regul.=5E-6')"
      ]
     },
     "execution_count": 32,
     "metadata": {
      "tags": []
     },
     "output_type": "execute_result"
    },
    {
     "data": {
      "image/png": "[encoded data removed]",
      "text/plain": [
       "<matplotlib.figure.Figure at 0x7f99a65a3950>"
      ]
     },
     "metadata": {
      "tags": []
     },
     "output_type": "display_data"
    }
   ],
   "source": [
    "#hfont = {'fontname':'Helvetica'}\n",
    "\n",
    "fig = plt.figure(figsize=(15,15))\n",
    "ax1 = fig.add_subplot(221, projection='3d')\n",
    "\n",
    "#x = np.arange(0.5,1,0.01)\n",
    "#y = np.arange(-pi,pi,0.01)\n",
    "\n",
    "#xx, yy = np.meshgrid(x,y, sparse = True)\n",
    "xx,yy = np.meshgrid(x,y, sparse = True)\n",
    "\n",
    "#BSM2d(r)\n",
    "z=np.vectorize(BSM2d_c)(xx,yy,0.5)\n",
    "\n",
    "ax1.plot_surface(xx,yy,z)\n",
    "ax1.set_xlabel('x')\n",
    "ax1.set_ylabel(r'$\\theta$')\n",
    "#ax1.zscale('log', nonposy='clip')\n",
    "plt.title(r'Generator: $\\left( N(e^{-8x})+\\epsilon N(e^{(-(x-\\mu)^2)/(2 \\sigma^2)}) \\right) \\cdot (1-\\cos \\theta) $',fontsize=14)\n",
    "for tick in ax1.xaxis.get_major_ticks():\n",
    "    tick.label.set_fontsize(11)\n",
    "    \n",
    "for tick in ax1.yaxis.get_major_ticks():\n",
    "    tick.label.set_fontsize(11)\n",
    "\n",
    "\n",
    "ax2 = fig.add_subplot(222, projection = '3d')\n",
    "ax2.plot_surface(xx,yy,tseqr)\n",
    "ax2.set_xlabel('x')\n",
    "ax2.set_ylabel(r'$\\theta$')\n",
    "plt.title(\"Trained Network Output\",fontsize=14)\n",
    "\n",
    "ax3 = fig.add_subplot(223, projection = '3d')\n",
    "ax3.plot_surface(xx,yy,z)\n",
    "ax3.set_xlabel('x')\n",
    "ax3.set_ylabel(r'$\\theta \\;\\;$' 'angle')\n",
    "ax3.view_init(20,60)\n",
    "plt.title(r'$\\mu=0.8,\\;\\sigma=0.02,\\;\\epsilon =0.005$',fontsize=14)\n",
    "\n",
    "ax4 = fig.add_subplot(224, projection = '3d')\n",
    "ax4.plot_surface(xx,yy,tseqr)\n",
    "ax4.set_xlabel('x')\n",
    "ax4.set_ylabel(r'$\\theta$')\n",
    "ax4.view_init(20,60)\n",
    "#plt.title(\"Arch: 1 layer 3 neurons, sigmoid activation, L2 regul.=5E-6\",fontsize=14)\n",
    "\n",
    "plt.suptitle(\"SM: 200k, BSM: 4020, 600k Rounds \\n Arch: 1 layer 3 neurons, sigmoid activation, L2 regul.=5E-6\", fontsize=20)"
   ]
  },
  {
   "cell_type": "code",
   "execution_count": 0,
   "metadata": {
    "id": "Hn-Ba6WW4-Ph",
    "colab_type": "code",
    "colab": {
     "autoexec": {
      "startup": false,
      "wait_interval": 0.0
     }
    }
   },
   "outputs": [],
   "source": [
    "\n",
    "plotfilename = 'NN_3N_cut5_D200k_4020_L2_5E6_WC10_sigmoid_600k.pdf'\n",
    "\n",
    "fig.savefig(plotfilename)\n",
    "\n",
    "# 1. Authenticate and create the PyDrive client.\n",
    "auth.authenticate_user()\n",
    "gauth = GoogleAuth()\n",
    "gauth.credentials = GoogleCredentials.get_application_default()\n",
    "drive = GoogleDrive(gauth)\n",
    "\n",
    "#plotfile = '2d_train_7_2d_cut5_D4k_1k_clipv5_R5000k.pdf'\n",
    "# PyDrive reference:\n",
    "# https://googledrive.github.io/PyDrive/docs/build/html/index.html\n",
    "\n",
    "# 2. Create & upload a file \n",
    "#uploaded = drive.CreateFile({'title': plotfilename})\n",
    "#uploaded.SetContentFile(plotfilename)\n",
    "#uploaded.Upload()\n",
    "#print('Uploaded file with ID {}'.format(uploaded.get('id')))\n",
    "\n",
    "upload_file_to_specific_folder('1cInKkYhUABZgHm72qidU3rE6lFca3OJP',plotfilename)\n"
   ]
  },
  {
   "cell_type": "code",
   "execution_count": 0,
   "metadata": {
    "id": "9dlh5Fr25MCc",
    "colab_type": "code",
    "colab": {
     "autoexec": {
      "startup": false,
      "wait_interval": 0.0
     }
    }
   },
   "outputs": [],
   "source": [
    "tary = 2*(model.predict(np.column_stack((bsm_cut,anglesBSM_c)))).flatten()"
   ]
  },
  {
   "cell_type": "code",
   "execution_count": 0,
   "metadata": {
    "id": "DXTm3TQb5UHD",
    "colab_type": "code",
    "colab": {
     "autoexec": {
      "startup": false,
      "wait_interval": 0.0
     },
     "base_uri": "https://localhost:8080/",
     "height": 34.0
    },
    "outputId": "09863846-78f0-4bf4-cc05-14d0ed494337",
    "executionInfo": {
     "status": "ok",
     "timestamp": 1.529514252159E12,
     "user_tz": -120.0,
     "elapsed": 474.0,
     "user": {
      "displayName": "Po-Jen Wang",
      "photoUrl": "https://lh3.googleusercontent.com/a/default-user=s128",
      "userId": "115800544068920469721"
     }
    }
   },
   "outputs": [
    {
     "data": {
      "text/plain": [
       "38.820946"
      ]
     },
     "execution_count": 41,
     "metadata": {
      "tags": []
     },
     "output_type": "execute_result"
    }
   ],
   "source": [
    "np.sum(tary)"
   ]
  },
  {
   "cell_type": "code",
   "execution_count": 0,
   "metadata": {
    "id": "iSlPqhmK3TYS",
    "colab_type": "code",
    "colab": {
     "autoexec": {
      "startup": false,
      "wait_interval": 0.0
     },
     "base_uri": "https://localhost:8080/",
     "height": 379.0
    },
    "outputId": "9308e7da-3917-49b9-ff78-0ca72b400ab4",
    "executionInfo": {
     "status": "ok",
     "timestamp": 1.523390572615E12,
     "user_tz": 240.0,
     "elapsed": 863.0,
     "user": {
      "displayName": "Po-Jen Wang",
      "photoUrl": "https://lh3.googleusercontent.com/a/default-user=s128",
      "userId": "115800544068920469721"
     }
    }
   },
   "outputs": [
    {
     "data": {
      "text/plain": [
       "Text(0.5,1,'SM: 1k, BSM: 100, Sample 1, 1M Rounds')"
      ]
     },
     "execution_count": 33,
     "metadata": {
      "tags": []
     },
     "output_type": "execute_result"
    },
    {
     "data": {
      "image/png": "[encoded data removed]",
      "text/plain": [
       "<matplotlib.figure.Figure at 0x7fdef826ccf8>"
      ]
     },
     "metadata": {
      "tags": []
     },
     "output_type": "display_data"
    }
   ],
   "source": [
    "fig, ax = plt.subplots()\n",
    "ax.plot(xinput,yorig,'*')\n",
    "ax.plot(xinput,ypred,'.')\n",
    "ax.hist(bsm_sample, bins=25)\n",
    "plt.yscale('log', nonposy='clip')\n",
    "plt.title(\"SM: 1k, BSM: 100, Sample 1, 1M Rounds\")"
   ]
  },
  {
   "cell_type": "code",
   "execution_count": 0,
   "metadata": {
    "id": "2u98CPasj3zu",
    "colab_type": "code",
    "colab": {
     "autoexec": {
      "startup": false,
      "wait_interval": 0.0
     }
    }
   },
   "outputs": [],
   "source": [
    "#compare NN output and generating function\n",
    "xinput_all = np.linspace(0.,1,1000)\n",
    "y=[]\n",
    "for xi in xinput_all:\n",
    "  #y.append(exp(NNfunction2(xi,weightL1,weightL2)[0][0])*SMn(xi))\n",
    "  #y.append(exp(NNfunction(xi,weightL1,weightL2)[0][0]))\n",
    "  y.append(BSMn(xi))\n",
    "  \n",
    "  \n",
    "ypred_all = np.vectorize(exp)(model.predict(xinput_all));\n",
    "ypred_all = ypred_all.flatten()*np.vectorize(SMn)(xinput_all);"
   ]
  },
  {
   "cell_type": "markdown",
   "metadata": {
    "id": "bFy-xalnSepb",
    "colab_type": "text"
   },
   "source": [
    "## Compute test statistics"
   ]
  },
  {
   "cell_type": "code",
   "execution_count": 0,
   "metadata": {
    "id": "ZBYyEYkjtdBE",
    "colab_type": "code",
    "colab": {
     "autoexec": {
      "startup": false,
      "wait_interval": 0.0
     },
     "base_uri": "https://localhost:8080/",
     "height": 51.0
    },
    "outputId": "1585943a-ba1f-4f6f-a5c3-7a3ad6379fe9",
    "executionInfo": {
     "status": "ok",
     "timestamp": 1.522679065794E12,
     "user_tz": 240.0,
     "elapsed": 359.0,
     "user": {
      "displayName": "Po-Jen Wang",
      "photoUrl": "https://lh3.googleusercontent.com/a/default-user=s128",
      "userId": "115800544068920469721"
     }
    }
   },
   "outputs": [
    {
     "name": "stdout",
     "output_type": "stream",
     "text": [
      "57.732620310031955\n",
      "115.46521\n"
     ]
    }
   ],
   "source": [
    "#Likelihood Ratio Test\n",
    "tlist = []\n",
    "for xii in bsm_sample:\n",
    "  tlist.append(NNfunction2(xii,weightL1,weightL2)[0][0])\n",
    "  \n",
    "print(np.sum(tlist))\n",
    "\n",
    "\n",
    "tarray = 2*(model.predict(bsm_sample)).flatten();\n",
    "print(np.sum(tarray))"
   ]
  },
  {
   "cell_type": "code",
   "execution_count": 0,
   "metadata": {
    "id": "-EAyJkVGQPs2",
    "colab_type": "code",
    "colab": {
     "autoexec": {
      "startup": false,
      "wait_interval": 0.0
     }
    }
   },
   "outputs": [],
   "source": [
    "#distribution of t\n",
    "Nsmb = 4000;\n",
    "rfw_tc = len(sm_cut)/Nsmb;\n",
    "\n",
    "def customlossMLc(yTrue,yPred):\n",
    "  return -yTrue*yPred+1/rfw_tc*(1-yTrue)*(K.exp(yPred)-1)\n",
    "\n",
    "class test_statistics:\n",
    "  '''\n",
    "  Compute test statistics given data sample(bsm or sm) \n",
    "  '''\n",
    "  def __init__(self,NNmodel,lossfunc,RefSample,TrainSample):\n",
    "    self.NNmodel = NNmodel\n",
    "    self.lossfunc = lossfunc\n",
    "    self.RefSample = RefSample\n",
    "    self.sm_sample_t = SMc_gen.rvs(size=Nsmb)\n",
    "    self.anglesSM_t = angle_gen.rvs(size=Nsmb)\n",
    "    \n",
    "  #train NN with data(input) sample and ref sample\n",
    "  #training variables\n",
    "  \n",
    "  #generate sm sample\n",
    "  \n",
    "  def train_t(self,epoch,lossfunc):\n",
    "    self.sm_sample_t = SMc_gen.rvs(size=Nsmb)\n",
    "    self.anglesSM_t = angle_gen.rvs(size=Nsmb)\n",
    "    bsm_target_tc = np.ones(Nsmb)\n",
    "    xmass_t = np.append(sm_cut,self.sm_sample_t)\n",
    "    xangle_t = np.append(anglesSM_c,self.anglesSM_t)\n",
    "    \n",
    "    #bsm_target_t = np.ones(Nbsm_c)\n",
    "\n",
    "    x_train_t = np.column_stack((xmass_t,xangle_t))\n",
    "    y_train_t = np.append(sm_target_c,bsm_target_tc)\n",
    "    self.NNmodel.compile(loss=lossfunc,optimizer=rmsprop)\n",
    "    #self.NNmodel.load_weights(\"modelML_5_2d_init.h5\")\n",
    "    self.NNmodel.fit(x_train_t, y_train_t,\n",
    "          batch_size=len(x_train_t),\n",
    "          epochs=epoch,\n",
    "          verbose=0);\n",
    "    tary = 2*(self.NNmodel.predict(np.column_stack((self.sm_sample_t,self.anglesSM_t)))).flatten();\n",
    "    return (np.sum(tary))\n",
    "    \n",
    "  def train_result(self,cutv):\n",
    "    x = np.arange(cutv,1,0.01)\n",
    "    y = np.arange(-pi/2,pi/2,0.025)\n",
    "\n",
    "    tseq = []\n",
    "    for j in y:\n",
    "      for i in x:\n",
    "        tseq = np.append(tseq,exp(model.predict(np.asarray([[i,j]])))*SM2d_c(i,j,cutv))\n",
    "    \n",
    "    tseqr = np.reshape(tseq,(len(y),len(x)))\n",
    "    #fig, ax = plt.subplots(projection='3d')\n",
    "    \n",
    "    fig1 = plt.figure(figsize=(7,7))\n",
    "    xx,yy = np.meshgrid(x,y, sparse = True)\n",
    "    ax = fig1.add_subplot(111, projection = '3d')\n",
    "    ax.plot_surface(xx,yy,tseqr)\n",
    "    ax.set_xlabel('x')\n",
    "    ax.set_ylabel(r'$\\theta$')\n",
    "    plt.title(\"SM: 2k, BSM: 200, Sample 1, 1.2M Rounds\",fontsize=14)\n",
    "    plt.show()\n",
    "    \n",
    "    \n",
    "  def t_vs_run(self,drun,ite):\n",
    "    xmass_t = np.append(sm_cut,self.sm_sample_t)\n",
    "    xangle_t = np.append(anglesSM_c,self.anglesSM_t)\n",
    "    bsm_target_tc = np.ones(Nsmb)\n",
    "    x_train_t = np.column_stack((xmass_t,xangle_t))\n",
    "    y_train_t = np.append(sm_target_c,bsm_target_tc)\n",
    "    self.NNmodel.compile(loss=self.lossfunc,optimizer=rmsprop)\n",
    "    \n",
    "    t_v_array=[]\n",
    "    i=0;\n",
    "    while i < ite:\n",
    "      self.NNmodel.fit(x_train_t, y_train_t,\n",
    "          batch_size=len(x_train_t),\n",
    "          epochs=drun,\n",
    "          verbose=0);\n",
    "      tary = 2*(self.NNmodel.predict(np.column_stack((self.sm_sample_t,self.anglesSM_t)))).flatten();\n",
    "      t_v_array = np.append(t_v_array,np.sum(tary));\n",
    "      i +=1\n",
    "      \n",
    "    return t_v_array\n",
    "  \n",
    "  def t_value(self):\n",
    "    tary = 2*(self.NNmodel.predict(np.column_stack((sm_sample_t,anglesSM_t)))).flatten();\n",
    "    return (np.sum(tary)) "
   ]
  },
  {
   "cell_type": "code",
   "execution_count": 0,
   "metadata": {
    "id": "jSuLjbY0Wo-k",
    "colab_type": "code",
    "colab": {
     "autoexec": {
      "startup": false,
      "wait_interval": 0.0
     },
     "base_uri": "https://localhost:8080/",
     "height": 34.0
    },
    "outputId": "953e5af4-4f96-43f6-dfc6-1acd03adab13",
    "executionInfo": {
     "status": "ok",
     "timestamp": 1.528993131092E12,
     "user_tz": 240.0,
     "elapsed": 295.0,
     "user": {
      "displayName": "James Wang",
      "photoUrl": "https://lh3.googleusercontent.com/a/default-user=s128",
      "userId": "113666876107193549672"
     }
    }
   },
   "outputs": [
    {
     "data": {
      "text/plain": [
       "3570"
      ]
     },
     "execution_count": 33,
     "metadata": {
      "tags": []
     },
     "output_type": "execute_result"
    }
   ],
   "source": [
    "len(anglesSM_c)"
   ]
  },
  {
   "cell_type": "code",
   "execution_count": 0,
   "metadata": {
    "id": "1GjjA-qzWrRV",
    "colab_type": "code",
    "colab": {
     "autoexec": {
      "startup": false,
      "wait_interval": 0.0
     },
     "base_uri": "https://localhost:8080/",
     "height": 34.0
    },
    "outputId": "9326bd9d-74f1-4147-939a-7220f01688db",
    "executionInfo": {
     "status": "ok",
     "timestamp": 1.528993129042E12,
     "user_tz": 240.0,
     "elapsed": 272.0,
     "user": {
      "displayName": "James Wang",
      "photoUrl": "https://lh3.googleusercontent.com/a/default-user=s128",
      "userId": "113666876107193549672"
     }
    }
   },
   "outputs": [
    {
     "data": {
      "text/plain": [
       "3570"
      ]
     },
     "execution_count": 32,
     "metadata": {
      "tags": []
     },
     "output_type": "execute_result"
    }
   ],
   "source": [
    "len(sm_cut)"
   ]
  },
  {
   "cell_type": "code",
   "execution_count": 0,
   "metadata": {
    "id": "EPykWzz7bApi",
    "colab_type": "code",
    "colab": {
     "autoexec": {
      "startup": false,
      "wait_interval": 0.0
     }
    }
   },
   "outputs": [],
   "source": [
    "smtrain1 = test_statistics(model,customlossMLc)"
   ]
  },
  {
   "cell_type": "code",
   "execution_count": 0,
   "metadata": {
    "id": "JZtEl7FhMhNb",
    "colab_type": "code",
    "colab": {
     "autoexec": {
      "startup": false,
      "wait_interval": 0.0
     }
    }
   },
   "outputs": [],
   "source": [
    "tarray = smtrain1.t_vs_run(10000,100)"
   ]
  },
  {
   "cell_type": "code",
   "execution_count": 0,
   "metadata": {
    "id": "f24l01lvdJK7",
    "colab_type": "code",
    "colab": {
     "autoexec": {
      "startup": false,
      "wait_interval": 0.0
     },
     "base_uri": "https://localhost:8080/",
     "height": 306.0
    },
    "outputId": "8ba662e7-6095-4e91-b517-7f2c485f5865",
    "executionInfo": {
     "status": "ok",
     "timestamp": 1.528998017596E12,
     "user_tz": 240.0,
     "elapsed": 251.0,
     "user": {
      "displayName": "James Wang",
      "photoUrl": "https://lh3.googleusercontent.com/a/default-user=s128",
      "userId": "113666876107193549672"
     }
    }
   },
   "outputs": [
    {
     "name": "stdout",
     "output_type": "stream",
     "text": [
      "[13.5667057  15.4197464  15.43516159 15.46499252 15.50199699 15.53859901\n",
      " 15.5662365  15.58906937 15.60687065 15.61881256 15.62802124 15.63319588\n",
      " 15.63680649 15.63751793 15.63661003 15.63501167 15.63181114 15.62725639\n",
      " 15.62272453 15.62101746 15.61838913 15.61815834 15.62403297 15.63528824\n",
      " 15.65713882 15.68634605 15.7238884  15.76880646 15.81741905 15.86499786\n",
      " 15.91081429 15.95276833 15.99255943 16.02810097 16.06109428 16.09018135\n",
      " 16.11697006 16.14027214 16.16258621 16.18297005 16.20026207 16.21577072\n",
      " 16.23001862 16.24406052 16.2570343  16.26825333 16.27809906 16.28751945\n",
      " 16.29654694 16.30467415 16.31273842 16.31972504 16.32669258 16.3334446\n",
      " 16.33959389 16.34538651 16.35076904 16.35575104 16.36068153 16.36572456\n",
      " 16.36982727 16.37369537 16.37780952 16.38110161 16.38574409 16.38879585\n",
      " 16.39197731 16.39480972 16.39842415 16.40115738 16.40424919 16.40736198\n",
      " 16.40990448 16.41313744 16.41607285 16.41881371 16.42137146 16.42398071\n",
      " 16.42674446 16.42874718 16.43194771 16.43434143 16.43637657 16.43785858\n",
      " 16.44099045 16.44303131 16.44572449 16.4477272  16.44966316 16.45197868\n",
      " 16.4527092  16.45541573 16.45752144 16.45863152 16.46074867 16.46242332\n",
      " 16.46372986 16.46595764 16.46705055 16.46863174]\n"
     ]
    }
   ],
   "source": [
    "print(tarray)"
   ]
  },
  {
   "cell_type": "code",
   "execution_count": 0,
   "metadata": {
    "id": "6JwEMR5LYxWu",
    "colab_type": "code",
    "colab": {
     "autoexec": {
      "startup": false,
      "wait_interval": 0.0
     }
    }
   },
   "outputs": [],
   "source": [
    "fig, ax = plt.subplots(figsize = (8,6))\n",
    "#fig1 = plt.figure(facecolor='white')\n",
    "#ax = plt.axes(frameon=True)\n",
    "#ax.set_facecolor('white')\n",
    "ax.plot(range(1,len(tarray)+1),tarray)\n",
    "#ax.plot(xinput,ypred,'.')\n",
    "#ax.hist(bsm_sample, bins=25)\n",
    "ax.axis('auto')\n",
    "#ax.set_anchor((0,0))\n",
    "ax.grid(True)\n",
    "ax.set_xlabel('x 10k runs',size=15)\n",
    "ax.set_ylabel('t (R)',size=15)\n",
    "#ax.spines['bottom'].set_linewidth(1)\n",
    "#ax.spines['left'].set_linewidth(1)\n",
    "#ax.spines['bottom'].set_visible(True)\n",
    "ax.spines['left'].set_visible(True)\n",
    "#plt.yscale('log', nonposy='clip')\n",
    "#plt.xticks(range(1,10,10),range(1,10,10))\n",
    "ax.set_title(\"SM: 200k, BSM: 4020, x>0.5\",size=18)\n",
    "plt.subplots_adjust(bottom=0.15)\n",
    "\n",
    "\n",
    "for label in ax.get_ticklabels():\n",
    "  label.set_rotation(45)\n",
    "  label.set_fontsize(16)\n",
    "\n",
    "#ax.draw()"
   ]
  },
  {
   "cell_type": "code",
   "execution_count": 0,
   "metadata": {
    "id": "n8SFJj75NZMs",
    "colab_type": "code",
    "colab": {
     "autoexec": {
      "startup": false,
      "wait_interval": 0.0
     }
    }
   },
   "outputs": [],
   "source": [
    "tarray10k50R1=np.array([6.51207161  7.2483387   7.71594048  8.07175255  8.3565979   8.59105492\n",
    "  8.7889576   8.95766449  9.10435104  9.2323494   9.34585571  9.44564629\n",
    "  9.53365326  9.61269951  9.68392372  9.74649429  9.8041153   9.85485649\n",
    "  9.90026665  9.94205093  9.9802475  10.01398277 10.04444122 10.07260323\n",
    " 10.09846115 10.12013817 10.14096451 10.16246414 10.17786789 10.19262123\n",
    " 10.20655823 10.22085571 10.23260307 10.24283028 10.25219917 10.26178169\n",
    " 10.26958847 10.27536583 10.28084564 10.28681183 10.29360199 10.29886055\n",
    " 10.30295563 10.30595207 10.30957222 10.31306839 10.31357193 10.3149128\n",
    " 10.31832123 10.31690598])"
   ]
  },
  {
   "cell_type": "code",
   "execution_count": 0,
   "metadata": {
    "id": "4Ajz8ntR-oMG",
    "colab_type": "code",
    "colab": {
     "autoexec": {
      "startup": false,
      "wait_interval": 0.0
     },
     "base_uri": "https://localhost:8080/",
     "height": 34.0
    },
    "outputId": "a0f25800-a29f-4fb9-ab6e-4b29dc248939",
    "executionInfo": {
     "status": "ok",
     "timestamp": 1.52873990554E12,
     "user_tz": 240.0,
     "elapsed": 282.0,
     "user": {
      "displayName": "James Wang",
      "photoUrl": "https://lh3.googleusercontent.com/a/default-user=s128",
      "userId": "113666876107193549672"
     }
    }
   },
   "outputs": [
    {
     "data": {
      "text/plain": [
       "72"
      ]
     },
     "execution_count": 38,
     "metadata": {
      "tags": []
     },
     "output_type": "execute_result"
    }
   ],
   "source": [
    "len(tarray)"
   ]
  },
  {
   "cell_type": "code",
   "execution_count": 0,
   "metadata": {
    "id": "1Pr21J1ZY546",
    "colab_type": "code",
    "colab": {
     "autoexec": {
      "startup": false,
      "wait_interval": 0.0
     },
     "base_uri": "https://localhost:8080/",
     "height": 34.0
    },
    "outputId": "645e3643-f1d0-4ce7-f034-f5532240a933",
    "executionInfo": {
     "status": "ok",
     "timestamp": 1.52877850746E12,
     "user_tz": 240.0,
     "elapsed": 104479.0,
     "user": {
      "displayName": "James Wang",
      "photoUrl": "https://lh3.googleusercontent.com/a/default-user=s128",
      "userId": "113666876107193549672"
     }
    }
   },
   "outputs": [
    {
     "data": {
      "text/plain": [
       "796.0928"
      ]
     },
     "execution_count": 42,
     "metadata": {
      "tags": []
     },
     "output_type": "execute_result"
    }
   ],
   "source": [
    "smtrain1.train_t(20000,customlossML)"
   ]
  },
  {
   "cell_type": "code",
   "execution_count": 0,
   "metadata": {
    "id": "16KwgkzC6JjV",
    "colab_type": "code",
    "colab": {
     "autoexec": {
      "startup": false,
      "wait_interval": 0.0
     }
    }
   },
   "outputs": [],
   "source": [
    "smtrain1.train_result(0.5)"
   ]
  },
  {
   "cell_type": "code",
   "execution_count": 0,
   "metadata": {
    "id": "SyvqNfQhYmCt",
    "colab_type": "code",
    "colab": {
     "autoexec": {
      "startup": false,
      "wait_interval": 0.0
     }
    }
   },
   "outputs": [],
   "source": [
    "def get_tsm(Nsample):\n",
    "  tvalue_array = []\n",
    "  smtrain = test_statistics(model,customlossMLc)\n",
    "  i=0\n",
    "  while i < Nsample:\n",
    "    tvalue_array.append(smtrain.train_t(200000,customlossMLc))\n",
    "    #tvalue_array.append(smtrain.t_value())\n",
    "    i += 1\n",
    "    \n",
    "  return tvalue_array"
   ]
  },
  {
   "cell_type": "code",
   "execution_count": 0,
   "metadata": {
    "id": "Xlx6yEgFCT6u",
    "colab_type": "code",
    "colab": {
     "autoexec": {
      "startup": false,
      "wait_interval": 0.0
     },
     "base_uri": "https://localhost:8080/",
     "height": 51.0
    },
    "outputId": "15ac1f15-e2c3-4010-a801-74b0f709d1a3",
    "executionInfo": {
     "status": "ok",
     "timestamp": 1.528961459463E12,
     "user_tz": 240.0,
     "elapsed": 1.0375467E7,
     "user": {
      "displayName": "James Wang",
      "photoUrl": "https://lh3.googleusercontent.com/a/default-user=s128",
      "userId": "113666876107193549672"
     }
    }
   },
   "outputs": [
    {
     "name": "stdout",
     "output_type": "stream",
     "text": [
      "[11.9573555, 7.1428375, 15.580963, 11.086571, 12.127045, 8.163109, 35.205555, 4.7552986, 4.13097, 21.240387]\n",
      "13391.958654189999\n"
     ]
    }
   ],
   "source": [
    "t = time.process_time()\n",
    "tarray2 = get_tsm(10)\n",
    "print(tarray2)\n",
    "print(time.process_time() - t)"
   ]
  },
  {
   "cell_type": "code",
   "execution_count": 0,
   "metadata": {
    "id": "NlKX5uxqd5gc",
    "colab_type": "code",
    "colab": {
     "autoexec": {
      "startup": false,
      "wait_interval": 0.0
     },
     "base_uri": "https://localhost:8080/",
     "height": 51.0
    },
    "outputId": "753e5c56-cf33-4c67-dfd1-b26f60997b89",
    "executionInfo": {
     "status": "ok",
     "timestamp": 1.528987206312E12,
     "user_tz": 240.0,
     "elapsed": 2.5746421E7,
     "user": {
      "displayName": "James Wang",
      "photoUrl": "https://lh3.googleusercontent.com/a/default-user=s128",
      "userId": "113666876107193549672"
     }
    }
   },
   "outputs": [
    {
     "name": "stdout",
     "output_type": "stream",
     "text": [
      "[12.448734, 8.343151, 2.999569, 11.258251, 10.019241, 4.69812, 14.007263, 0.9439087, -1.7368622, -0.45786285, 1.764965, 3.4663277, 2.0784607, 7.968746, 12.509335, 12.732555, 11.15712, 8.878368, 10.126976, 3.58535, 8.5193405, 4.748558, 12.377155, 4.23851, 2.246849]\n",
      "33114.005030198\n"
     ]
    }
   ],
   "source": [
    "t = time.process_time()\n",
    "tarray2 = get_tsm(25)\n",
    "print(tarray2)\n",
    "print(time.process_time() - t)"
   ]
  },
  {
   "cell_type": "code",
   "execution_count": 0,
   "metadata": {
    "id": "8p2oIUESZzET",
    "colab_type": "code",
    "colab": {
     "autoexec": {
      "startup": false,
      "wait_interval": 0.0
     }
    }
   },
   "outputs": [],
   "source": [
    "tary200kR2cut=np.array([6.280324, 3.935751,3.002756, 3.428236, 6.76935, 7.586645, 21.619804, 4.3351784, 9.306698, 9.7299, 19.548218, 5.6026573,\n",
    "                       14.930061, 9.929951, 4.20903, 2.857113, 8.879791, 18.498081, 10.508842, 5.499588, 5.8298645, 1.9355392,27.536953, 11.842777,\n",
    "                        9.680717, 6.4893913, 6.888027,11.9573555, 7.1428375, 15.580963, 11.086571, 12.127045, 8.163109, 35.205555, 4.7552986, 4.13097, \n",
    "                        21.240387,12.448734, 8.343151, 2.999569, 11.258251, 10.019241, 4.69812, 14.007263, 0.9439087, -1.7368622, -0.45786285, 1.764965,\n",
    "                        3.4663277, 2.0784607, 7.968746, 12.509335, 12.732555, 11.15712, 8.878368, 10.126976, 3.58535, 8.5193405, 4.748558, 12.377155, 4.23851, 2.246849])"
   ]
  },
  {
   "cell_type": "code",
   "execution_count": 0,
   "metadata": {
    "id": "daAzCOBZKjqd",
    "colab_type": "code",
    "colab": {
     "autoexec": {
      "startup": false,
      "wait_interval": 0.0
     }
    }
   },
   "outputs": [],
   "source": [
    "tary200kR1cut=np.array([9.198353, 22.413506, 18.658892, 3.3231735, 12.6468315, 19.533606, 7.0150704, 7.973974, 15.004824,\n",
    "                       1.8119359, 17.662802, 9.209027, 8.491543, 6.6254063, 7.361366, 20.885723, 2.8854532, 15.239798, 12.919951,\n",
    "                       15.254736, 49.6819, 6.9491396, 9.390984, 8.531012, 5.195326, 7.3243885, 10.206685, 13.672317, 10.485491,\n",
    "                       11.436906, 13.185726, 10.5280075, 13.9951, 10.375193, 23.16745, 7.866772, 9.366356, 15.060921, 24.468105,\n",
    "                       2.1078587, 12.849054, 7.8117046, 1.1931639, 9.656768, 8.3884945, 10.9362335, 19.04181, 5.602028, 6.96894,\n",
    "                       13.527407, 9.009592, 9.232324, 13.798014, 26.165163, 17.853573, 5.0918174, 0.0597561, 4.3211384, \n",
    "                       16.246407, 15.064257, 11.282628, 5.164405, 17.900526, 10.412801, 12.343819, 18.298119, 4.579193, 6.9842525,\n",
    "                       2.6973543, 9.363689, 8.552435, 11.587778, 16.519943,16.553617, 12.130791, 4.799429, 5.813991, 25.142912, \n",
    "                       10.338545, 22.89791, 16.821117, 6.818872, 13.331888,14.899183, 6.5405235, 17.230661, 4.3786163, 16.537035, 7.003011, \n",
    "                       21.634886, 6.693706, 2.0629637, 17.045473,10.030758, 10.766983, 8.218758, 4.9844117, 9.099534, 12.161718, 18.165085, \n",
    "                       14.922871, 9.762325, 17.848711,11.368221, 13.5494585, 10.52153, 10.173314, 15.988689, 8.45729, 11.216583, 9.845869, 10.222246, 13.011869])"
   ]
  },
  {
   "cell_type": "code",
   "execution_count": 0,
   "metadata": {
    "id": "G0lTthQ5FwcD",
    "colab_type": "code",
    "colab": {
     "autoexec": {
      "startup": false,
      "wait_interval": 0.0
     }
    }
   },
   "outputs": [],
   "source": [
    "tary200kAll=np.array([9.198353, 22.413506, 18.658892, 3.3231735, 12.6468315, 19.533606, 7.0150704, 7.973974, 15.004824,\n",
    "                       1.8119359, 17.662802, 9.209027, 8.491543, 6.6254063, 7.361366, 20.885723, 2.8854532, 15.239798, 12.919951,\n",
    "                       15.254736, 49.6819, 6.9491396, 9.390984, 8.531012, 5.195326, 7.3243885, 10.206685, 13.672317, 10.485491,\n",
    "                       11.436906, 13.185726, 10.5280075, 13.9951, 10.375193, 23.16745, 7.866772, 9.366356, 15.060921, 24.468105,\n",
    "                       2.1078587, 12.849054, 7.8117046, 1.1931639, 9.656768, 8.3884945, 10.9362335, 19.04181, 5.602028, 6.96894,\n",
    "                       13.527407, 9.009592, 9.232324, 13.798014, 26.165163, 17.853573, 5.0918174, 0.0597561, 4.3211384, \n",
    "                       16.246407, 15.064257, 11.282628, 5.164405, 17.900526, 10.412801, 12.343819, 18.298119, 4.579193, 6.9842525,\n",
    "                       2.6973543, 9.363689, 8.552435, 11.587778, 16.519943,16.553617, 12.130791, 4.799429, 5.813991, 25.142912, \n",
    "                       10.338545, 22.89791, 16.821117, 6.818872, 13.331888,14.899183, 6.5405235, 17.230661, 4.3786163, 16.537035, 7.003011, \n",
    "                       21.634886, 6.693706, 2.0629637, 17.045473,10.030758, 10.766983, 8.218758, 4.9844117, 9.099534, 12.161718, 18.165085, \n",
    "                       14.922871, 9.762325, 17.848711,11.368221, 13.5494585, 10.52153, 10.173314, 15.988689, 8.45729, 11.216583, 9.845869, 10.222246, 13.011869,\n",
    "                     6.280324, 3.935751,3.002756, 3.428236, 6.76935, 7.586645, 21.619804, 4.3351784, 9.306698, 9.7299, 19.548218, 5.6026573,\n",
    "                       14.930061, 9.929951, 4.20903, 2.857113, 8.879791, 18.498081, 10.508842, 5.499588, 5.8298645, 1.9355392,27.536953, 11.842777,\n",
    "                        9.680717, 6.4893913, 6.888027,11.9573555, 7.1428375, 15.580963, 11.086571, 12.127045, 8.163109, 35.205555, 4.7552986, 4.13097, \n",
    "                        21.240387,12.448734, 8.343151, 2.999569, 11.258251, 10.019241, 4.69812, 14.007263, 0.9439087, -1.7368622, -0.45786285, 1.764965,\n",
    "                        3.4663277, 2.0784607, 7.968746, 12.509335, 12.732555, 11.15712, 8.878368, 10.126976, 3.58535, 8.5193405, 4.748558, 12.377155, 4.23851, 2.246849])"
   ]
  },
  {
   "cell_type": "code",
   "execution_count": 0,
   "metadata": {
    "id": "JYx1ygCBat8n",
    "colab_type": "code",
    "colab": {
     "autoexec": {
      "startup": false,
      "wait_interval": 0.0
     }
    }
   },
   "outputs": [],
   "source": [
    "t = time.process_time()\n",
    "tarray2 = get_tsm(10)\n",
    "print(tarray2)\n",
    "print(time.process_time() - t)"
   ]
  },
  {
   "cell_type": "code",
   "execution_count": 0,
   "metadata": {
    "id": "Y8_GT8DNzN9x",
    "colab_type": "code",
    "colab": {
     "autoexec": {
      "startup": false,
      "wait_interval": 0.0
     }
    }
   },
   "outputs": [],
   "source": [
    "tarray50kR1=np.array([17.859928, 21.576794, 22.648262, 4.7346706, 0.041297942,9.307671, 7.986084, 2.9581623, 11.567207, 7.4215584,19.745886, 3.8535743, 7.994503, 11.461901, 19.316307,18.834127, 10.514814, 9.93902, 21.024137, 6.800843,13.896572, 7.2651596, 15.426065, 14.872274, 34.841877])"
   ]
  },
  {
   "cell_type": "code",
   "execution_count": 0,
   "metadata": {
    "id": "1pPkhvPmpP1U",
    "colab_type": "code",
    "colab": {
     "autoexec": {
      "startup": false,
      "wait_interval": 0.0
     }
    }
   },
   "outputs": [],
   "source": [
    "tarrayR1 = np.array([13.871891, 9.872658, 20.530746, 12.656269,12.109566, 16.218359, 5.0516987])"
   ]
  },
  {
   "cell_type": "code",
   "execution_count": 0,
   "metadata": {
    "id": "7FSKcLwsdro2",
    "colab_type": "code",
    "colab": {
     "autoexec": {
      "startup": false,
      "wait_interval": 0.0
     },
     "base_uri": "https://localhost:8080/",
     "height": 577.0
    },
    "outputId": "108646aa-583e-460e-b26a-5f8971aac57e",
    "executionInfo": {
     "status": "ok",
     "timestamp": 1.529009922773E12,
     "user_tz": 240.0,
     "elapsed": 375.0,
     "user": {
      "displayName": "James Wang",
      "photoUrl": "https://lh3.googleusercontent.com/a/default-user=s128",
      "userId": "113666876107193549672"
     }
    }
   },
   "outputs": [
    {
     "data": {
      "text/plain": [
       "(array([0.00666794, 0.03333969, 0.05334351, 0.06445674, 0.07556997,\n",
       "        0.0577888 , 0.03111705, 0.03111705, 0.01111323, 0.01111323,\n",
       "        0.00666794, 0.00222265, 0.        , 0.        , 0.00222265,\n",
       "        0.        , 0.        , 0.        , 0.        , 0.00222265]),\n",
       " array([-1.7368622 ,  0.83407591,  3.40501402,  5.97595213,  8.54689024,\n",
       "        11.11782835, 13.68876646, 16.25970457, 18.83064268, 21.40158079,\n",
       "        23.9725189 , 26.54345701, 29.11439512, 31.68533323, 34.25627134,\n",
       "        36.82720945, 39.39814756, 41.96908567, 44.54002378, 47.11096189,\n",
       "        49.6819    ]),\n",
       " <a list of 20 Patch objects>)"
      ]
     },
     "execution_count": 126,
     "metadata": {
      "tags": []
     },
     "output_type": "execute_result"
    },
    {
     "data": {
      "image/png": "[encoded data removed]",
      "text/plain": [
       "<matplotlib.figure.Figure at 0x7f5ac8a5b198>"
      ]
     },
     "metadata": {
      "tags": []
     },
     "output_type": "display_data"
    }
   ],
   "source": [
    "plt.hist(tary200kAll, bins=20,normed=True)"
   ]
  },
  {
   "cell_type": "code",
   "execution_count": 0,
   "metadata": {
    "id": "dN9FGfp3yyw4",
    "colab_type": "code",
    "colab": {
     "autoexec": {
      "startup": false,
      "wait_interval": 0.0
     }
    }
   },
   "outputs": [],
   "source": [
    "np.save('tarray1',tarray1)"
   ]
  },
  {
   "cell_type": "code",
   "execution_count": 0,
   "metadata": {
    "id": "rGhD77Tjy48W",
    "colab_type": "code",
    "colab": {
     "autoexec": {
      "startup": false,
      "wait_interval": 0.0
     },
     "base_uri": "https://localhost:8080/",
     "height": 76.0
    },
    "outputId": "bc379ad4-eceb-4968-beed-15942d124075",
    "executionInfo": {
     "status": "ok",
     "timestamp": 1.528927145258E12,
     "user_tz": 240.0,
     "elapsed": 238.0,
     "user": {
      "displayName": "James Wang",
      "photoUrl": "https://lh3.googleusercontent.com/a/default-user=s128",
      "userId": "113666876107193549672"
     }
    }
   },
   "outputs": [
    {
     "name": "stdout",
     "output_type": "stream",
     "text": [
      "/content\n",
      "['datalab', 'Sample200k_4k.npz', '.local', 'Samples800_100_s1.npz', 'modelML_3_2d_cut_5_D200k_4k_L2R5E6_MW10_sigmoid_600k.h5', '.rnd', '.forever', '.config', 'modelML_5_2d_init.h5', '.ipython', '2d_NN_3_2d_cut5_D200k_4020_L25E6_WC0_sigmoid_600k.pdf', '.keras', '.cache']\n"
     ]
    }
   ],
   "source": [
    "print(os.getcwd())\n",
    "print(os.listdir('/content'))"
   ]
  },
  {
   "cell_type": "code",
   "execution_count": 0,
   "metadata": {
    "id": "vEGVi3ERzBf5",
    "colab_type": "code",
    "colab": {
     "autoexec": {
      "startup": false,
      "wait_interval": 0.0
     },
     "base_uri": "https://localhost:8080/",
     "height": 34.0
    },
    "outputId": "c1279b10-ae87-4427-cff6-4166a755b48c",
    "executionInfo": {
     "status": "ok",
     "timestamp": 1.522612619219E12,
     "user_tz": 240.0,
     "elapsed": 968.0,
     "user": {
      "displayName": "Po-Jen Wang",
      "photoUrl": "https://lh3.googleusercontent.com/a/default-user=s128",
      "userId": "115800544068920469721"
     }
    }
   },
   "outputs": [
    {
     "name": "stdout",
     "output_type": "stream",
     "text": [
      "Uploaded file with ID 177bawBU7H5SRoDp-OSpHfS8IxBiwNxcw\n"
     ]
    }
   ],
   "source": [
    "#from pydrive.auth import GoogleAuth\n",
    "#from pydrive.drive import GoogleDrive\n",
    "#from google.colab import auth\n",
    "#from oauth2client.client import GoogleCredentials\n",
    "\n",
    "# 1. Authenticate and create the PyDrive client.\n",
    "auth.authenticate_user()\n",
    "gauth = GoogleAuth()\n",
    "gauth.credentials = GoogleCredentials.get_application_default()\n",
    "drive = GoogleDrive(gauth)\n",
    "\n",
    "# PyDrive reference:\n",
    "# https://googledrive.github.io/PyDrive/docs/build/html/index.html\n",
    "\n",
    "# 2. Create & upload a file \n",
    "uploaded = drive.CreateFile({'title': 'tarray_all.npy'})\n",
    "uploaded.SetContentString('all t-value array')\n",
    "uploaded.Upload()\n",
    "print('Uploaded file with ID {}'.format(uploaded.get('id')))\n"
   ]
  },
  {
   "cell_type": "code",
   "execution_count": 0,
   "metadata": {
    "id": "oxydfg6sUy9a",
    "colab_type": "code",
    "colab": {
     "autoexec": {
      "startup": false,
      "wait_interval": 0.0
     }
    }
   },
   "outputs": [],
   "source": [
    ""
   ]
  }
 ],
 "metadata": {
  "colab": {
   "name": "NNratio_2D_BinnedRef.ipynb",
   "version": "0.3.2",
   "views": {},
   "default_view": {},
   "provenance": [
    {
     "file_id": "1TXKdHfqnZ9X8gSYn_yLCvWXqOKKdqgRX",
     "timestamp": 1.529949242581E12
    },
    {
     "file_id": "13zC6nTSvjEFa_-FFy6-Rpy5zH8bUUlMJ",
     "timestamp": 1.523391191789E12
    },
    {
     "file_id": "1sM6CCd7l5AM2b_sMPZEVx0_R5heJSa_5",
     "timestamp": 1.522430247577E12
    },
    {
     "file_id": "1uH0-gPkr9Mld0wFQcb_ZnLHGXGpluk0A",
     "timestamp": 1.521768668088E12
    },
    {
     "file_id": "1G6TC-QS9mUG7NiBpDOitjMVrxR0yDxWB",
     "timestamp": 1.521212273957E12
    }
   ],
   "collapsed_sections": [
    "8MrFyNRNzFIY",
    "RE7fzFMezMSW",
    "WyFemNnoFi0u",
    "wqEZGpUEF9iI"
   ]
  },
  "kernelspec": {
   "name": "python2",
   "display_name": "Python 2"
  },
  "accelerator": "GPU"
 },
 "nbformat": 4,
 "nbformat_minor": 0
}
